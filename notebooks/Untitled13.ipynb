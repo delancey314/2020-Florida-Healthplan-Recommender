{
 "cells": [
  {
   "cell_type": "code",
   "execution_count": 38,
   "metadata": {},
   "outputs": [],
   "source": [
    "import numpy as np\n",
    "import pandas as pd\n",
    "import matplotlib.pyplot as plt\n",
    "import matplotlib.style as style\n",
    "style.available\n",
    "style.use('seaborn-poster') #sets the size of the charts\n",
    "style.use('ggplot')\n",
    "import seaborn as sns"
   ]
  },
  {
   "cell_type": "code",
   "execution_count": 8,
   "metadata": {},
   "outputs": [
    {
     "name": "stdout",
     "output_type": "stream",
     "text": [
      "'2019 draft.csv'\r\n",
      "'2019 draft.ods'\r\n",
      "\u001b[0m\u001b[01;34m'AHHH backup'\u001b[0m/\r\n",
      " \u001b[01;34mall_scripts\u001b[0m/\r\n",
      "'all scripts.ods'\r\n",
      " assessment1.py\r\n",
      " beginners_python_cheat_sheet_pcc_all.pdf\r\n",
      " \u001b[01;34mbootstrap-4.3.1\u001b[0m/\r\n",
      " \u001b[01;34mcapstone_1\u001b[0m/\r\n",
      " \u001b[01;34mdata\u001b[0m/\r\n",
      " datapoints.py\r\n",
      " \u001b[01;35mdata_table.png\u001b[0m\r\n",
      " docker.odt\r\n",
      "'drive name.odt'\r\n",
      " \u001b[01;34mdsi_prep\u001b[0m/\r\n",
      "\u001b[01;34m'fraud file hide'\u001b[0m/\r\n",
      " \u001b[01;34mgalvanize\u001b[0m/\r\n",
      " galvanize_36x48.pptx\r\n",
      " \u001b[01;31mgames.zip\u001b[0m\r\n",
      " \u001b[01;31mhappy.zip\u001b[0m\r\n",
      " interview.odt\r\n",
      "'ISLR Seventh Printing.pdf'\r\n",
      "\u001b[01;34m'job search'\u001b[0m/\r\n",
      "\u001b[01;34m'just in case'\u001b[0m/\r\n",
      " leads\r\n",
      " \u001b[01;34mmaster_scripts\u001b[0m/\r\n",
      " \u001b[01;34mml-20m\u001b[0m/\r\n",
      " \u001b[01;34mml-latest\u001b[0m/\r\n",
      " movews-graph\r\n",
      " naive_bayes.py\r\n",
      " notes.odt\r\n",
      "\u001b[01;31m'not gamses.zip'\u001b[0m\r\n",
      "\u001b[01;34m'old atuff'\u001b[0m/\r\n",
      "\u001b[01;34m'old documents'\u001b[0m/\r\n",
      "\u001b[01;34m'old downloads'\u001b[0m/\r\n",
      "\u001b[01;34m'old version'\u001b[0m/\r\n",
      " \u001b[01;34mpbcs%20and%20resumes\u001b[0m/\r\n",
      "\u001b[01;34m'possible datasets'\u001b[0m/\r\n",
      " \u001b[01;34mpossible_datasets\u001b[0m/\r\n",
      " proof_parking_paid\r\n",
      " Python_Accelerated_Guide_.pdf\r\n",
      " raw_data.csv\r\n",
      " \u001b[01;34mresumes\u001b[0m/\r\n",
      "\u001b[01;35m'Screenshot from 2019-07-26 11-25-23.jpg'\u001b[0m\r\n",
      "\u001b[01;35m'Screenshot from 2019-08-07 09-12-18.png'\u001b[0m\r\n",
      "\u001b[01;35m'Screenshot from 2019-09-13 10-00-28.png'\u001b[0m\r\n",
      "\u001b[01;35m'Screenshot from 2019-10-22 22-42-33.png'\u001b[0m\r\n",
      "\u001b[01;35m'Screenshot from 2019-10-24 16-03-10.png'\u001b[0m\r\n",
      "\u001b[01;35m'Screenshot from 2019-10-30 12-55-14.png'\u001b[0m\r\n",
      "\u001b[01;35m'Screenshot from 2019-10-30 22-45-32.png'\u001b[0m\r\n",
      "\u001b[01;35m'Screenshot from 2019-11-06 08-12-50.png'\u001b[0m\r\n",
      " \u001b[01;34mscreenshots\u001b[0m/\r\n",
      "'sql notes.odt'\r\n",
      "'week 5 review.odt'\r\n"
     ]
    }
   ],
   "source": [
    "ls"
   ]
  },
  {
   "cell_type": "code",
   "execution_count": 49,
   "metadata": {},
   "outputs": [
    {
     "data": {
      "text/html": [
       "<div>\n",
       "<style scoped>\n",
       "    .dataframe tbody tr th:only-of-type {\n",
       "        vertical-align: middle;\n",
       "    }\n",
       "\n",
       "    .dataframe tbody tr th {\n",
       "        vertical-align: top;\n",
       "    }\n",
       "\n",
       "    .dataframe thead th {\n",
       "        text-align: right;\n",
       "    }\n",
       "</style>\n",
       "<table border=\"1\" class=\"dataframe\">\n",
       "  <thead>\n",
       "    <tr style=\"text-align: right;\">\n",
       "      <th></th>\n",
       "      <th>State</th>\n",
       "      <th>Enrollees</th>\n",
       "      <th>population</th>\n",
       "    </tr>\n",
       "  </thead>\n",
       "  <tbody>\n",
       "    <tr>\n",
       "      <th>0</th>\n",
       "      <td>Florida</td>\n",
       "      <td>1783304</td>\n",
       "      <td>21646155</td>\n",
       "    </tr>\n",
       "    <tr>\n",
       "      <th>1</th>\n",
       "      <td>California</td>\n",
       "      <td>1513883</td>\n",
       "      <td>39747267</td>\n",
       "    </tr>\n",
       "    <tr>\n",
       "      <th>2</th>\n",
       "      <td>Texas</td>\n",
       "      <td>1087240</td>\n",
       "      <td>29087070</td>\n",
       "    </tr>\n",
       "    <tr>\n",
       "      <th>3</th>\n",
       "      <td>North Carolina</td>\n",
       "      <td>501271</td>\n",
       "      <td>10497741</td>\n",
       "    </tr>\n",
       "    <tr>\n",
       "      <th>4</th>\n",
       "      <td>Georgia</td>\n",
       "      <td>458437</td>\n",
       "      <td>10627767</td>\n",
       "    </tr>\n",
       "  </tbody>\n",
       "</table>\n",
       "</div>"
      ],
      "text/plain": [
       "            State  Enrollees  population\n",
       "0         Florida    1783304    21646155\n",
       "1      California    1513883    39747267\n",
       "2           Texas    1087240    29087070\n",
       "3  North Carolina     501271    10497741\n",
       "4         Georgia     458437    10627767"
      ]
     },
     "execution_count": 49,
     "metadata": {},
     "output_type": "execute_result"
    }
   ],
   "source": [
    "state= pd.read_csv('top_5.csv')\n",
    "state"
   ]
  },
  {
   "cell_type": "code",
   "execution_count": 59,
   "metadata": {},
   "outputs": [
    {
     "name": "stdout",
     "output_type": "stream",
     "text": [
      "269421\n"
     ]
    }
   ],
   "source": [
    "state['percent']=(state['Enrollees']/state['population']*100).round(2)\n",
    "print(1783304-1513883)\n",
    "      "
   ]
  },
  {
   "cell_type": "code",
   "execution_count": 53,
   "metadata": {},
   "outputs": [
    {
     "data": {
      "text/html": [
       "<div>\n",
       "<style scoped>\n",
       "    .dataframe tbody tr th:only-of-type {\n",
       "        vertical-align: middle;\n",
       "    }\n",
       "\n",
       "    .dataframe tbody tr th {\n",
       "        vertical-align: top;\n",
       "    }\n",
       "\n",
       "    .dataframe thead th {\n",
       "        text-align: right;\n",
       "    }\n",
       "</style>\n",
       "<table border=\"1\" class=\"dataframe\">\n",
       "  <thead>\n",
       "    <tr style=\"text-align: right;\">\n",
       "      <th></th>\n",
       "      <th>State</th>\n",
       "      <th>Enrollees</th>\n",
       "      <th>population</th>\n",
       "      <th>percent</th>\n",
       "    </tr>\n",
       "  </thead>\n",
       "  <tbody>\n",
       "    <tr>\n",
       "      <th>0</th>\n",
       "      <td>Florida</td>\n",
       "      <td>1783304</td>\n",
       "      <td>21646155</td>\n",
       "      <td>8.24</td>\n",
       "    </tr>\n",
       "    <tr>\n",
       "      <th>1</th>\n",
       "      <td>California</td>\n",
       "      <td>1513883</td>\n",
       "      <td>39747267</td>\n",
       "      <td>3.81</td>\n",
       "    </tr>\n",
       "    <tr>\n",
       "      <th>2</th>\n",
       "      <td>Texas</td>\n",
       "      <td>1087240</td>\n",
       "      <td>29087070</td>\n",
       "      <td>3.74</td>\n",
       "    </tr>\n",
       "    <tr>\n",
       "      <th>3</th>\n",
       "      <td>North Carolina</td>\n",
       "      <td>501271</td>\n",
       "      <td>10497741</td>\n",
       "      <td>4.78</td>\n",
       "    </tr>\n",
       "    <tr>\n",
       "      <th>4</th>\n",
       "      <td>Georgia</td>\n",
       "      <td>458437</td>\n",
       "      <td>10627767</td>\n",
       "      <td>4.31</td>\n",
       "    </tr>\n",
       "  </tbody>\n",
       "</table>\n",
       "</div>"
      ],
      "text/plain": [
       "            State  Enrollees  population  percent\n",
       "0         Florida    1783304    21646155     8.24\n",
       "1      California    1513883    39747267     3.81\n",
       "2           Texas    1087240    29087070     3.74\n",
       "3  North Carolina     501271    10497741     4.78\n",
       "4         Georgia     458437    10627767     4.31"
      ]
     },
     "execution_count": 53,
     "metadata": {},
     "output_type": "execute_result"
    }
   ],
   "source": [
    "state=state.sort_values(by='Enrollees', ascending = False)\n",
    "269,421\n",
    "696,064\n",
    "state"
   ]
  },
  {
   "cell_type": "code",
   "execution_count": 55,
   "metadata": {},
   "outputs": [
    {
     "data": {
      "image/png": "[encoded data removed]",
      "text/plain": [
       "<Figure size 921.6x633.6 with 1 Axes>"
      ]
     },
     "metadata": {},
     "output_type": "display_data"
    }
   ],
   "source": [
    "ax = sns.barplot(y= \"Enrollees\", x = \"State\", data = state, palette=(\"Blues_d\"))\n",
    "sns.set_context(\"poster\")\n",
    "plt.savefig('Ebnrollees')"
   ]
  },
  {
   "cell_type": "code",
   "execution_count": 44,
   "metadata": {},
   "outputs": [
    {
     "ename": "NameError",
     "evalue": "name 'y_pos' is not defined",
     "output_type": "error",
     "traceback": [
      "\u001b[0;31m------------------------------\u001b[0m",
      "\u001b[0;31mNameError\u001b[0mTraceback (most recent call last)",
      "\u001b[0;32m<ipython-input-44-954cbf532f60>\u001b[0m in \u001b[0;36m<module>\u001b[0;34m\u001b[0m\n\u001b[0;32m----> 1\u001b[0;31m \u001b[0mbarplot\u001b[0m \u001b[0;34m=\u001b[0m \u001b[0mplt\u001b[0m\u001b[0;34m.\u001b[0m\u001b[0mbar\u001b[0m\u001b[0;34m(\u001b[0m\u001b[0my_pos\u001b[0m\u001b[0;34m,\u001b[0m \u001b[0modds_number\u001b[0m\u001b[0;34m,\u001b[0m \u001b[0mcolor\u001b[0m \u001b[0;34m=\u001b[0m \u001b[0;34m'darkgreen'\u001b[0m\u001b[0;34m,\u001b[0m \u001b[0malpha\u001b[0m \u001b[0;34m=\u001b[0m \u001b[0;36m0.85\u001b[0m\u001b[0;34m)\u001b[0m\u001b[0;34m\u001b[0m\u001b[0;34m\u001b[0m\u001b[0m\n\u001b[0m\u001b[1;32m      2\u001b[0m \u001b[0mbarplot\u001b[0m\u001b[0;34m[\u001b[0m\u001b[0;36m0\u001b[0m\u001b[0;34m]\u001b[0m\u001b[0;34m.\u001b[0m\u001b[0mset_color\u001b[0m\u001b[0;34m(\u001b[0m\u001b[0;34m'darkred'\u001b[0m\u001b[0;34m)\u001b[0m\u001b[0;34m\u001b[0m\u001b[0;34m\u001b[0m\u001b[0m\n\u001b[1;32m      3\u001b[0m \u001b[0mplt\u001b[0m\u001b[0;34m.\u001b[0m\u001b[0mxlabel\u001b[0m\u001b[0;34m(\u001b[0m\u001b[0;34m'Factors'\u001b[0m\u001b[0;34m,\u001b[0m \u001b[0mfontsize\u001b[0m \u001b[0;34m=\u001b[0m \u001b[0;36m15\u001b[0m\u001b[0;34m,\u001b[0m \u001b[0mweight\u001b[0m \u001b[0;34m=\u001b[0m \u001b[0;34m'bold'\u001b[0m\u001b[0;34m)\u001b[0m\u001b[0;34m\u001b[0m\u001b[0;34m\u001b[0m\u001b[0m\n",
      "\u001b[0;31mNameError\u001b[0m: name 'y_pos' is not defined"
     ]
    }
   ],
   "source": [
    "barplot = plt.bar(enrollees, odds_number, color = 'darkgreen', alpha = 0.85)\n",
    "barplot[0].set_color('darkred')\n",
    "plt.xlabel('Factors', fontsize = 15, weight = 'bold')"
   ]
  },
  {
   "cell_type": "code",
   "execution_count": null,
   "metadata": {},
   "outputs": [],
   "source": []
  }
 ],
 "metadata": {
  "kernelspec": {
   "display_name": "Python 3",
   "language": "python",
   "name": "python3"
  },
  "language_info": {
   "codemirror_mode": {
    "name": "ipython",
    "version": 3
   },
   "file_extension": ".py",
   "mimetype": "text/x-python",
   "name": "python",
   "nbconvert_exporter": "python",
   "pygments_lexer": "ipython3",
   "version": "3.7.3"
  }
 },
 "nbformat": 4,
 "nbformat_minor": 2
}
