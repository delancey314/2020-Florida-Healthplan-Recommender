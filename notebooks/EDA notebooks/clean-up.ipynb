{
 "cells": [
  {
   "cell_type": "code",
   "execution_count": 1,
   "metadata": {},
   "outputs": [],
   "source": [
    "import numpy as np\n",
    "import pandas as pd "
   ]
  },
  {
   "cell_type": "code",
   "execution_count": 2,
   "metadata": {},
   "outputs": [],
   "source": [
    "pd.set_option('display.max_rows', 500)\n",
    "pd.set_option('display.max_columns', 500)"
   ]
  },
  {
   "cell_type": "markdown",
   "metadata": {},
   "source": [
    "# AREA"
   ]
  },
  {
   "cell_type": "code",
   "execution_count": 3,
   "metadata": {},
   "outputs": [],
   "source": [
    "#ben_cost=pd.read_csv('../data/Benefits_Cost_Sharing_PUF.csv',low_memory=False, encoding ='latin1')\n",
    "#rules=pd.read_csv('../data/Business_Rules_PUF.csv',low_memory=False, encoding ='latin1')\n",
    "#network=pd.read_csv('../data/Network_PUF.csv',low_memory=False, encoding ='latin1')\n",
    "#attr=pd.read_csv('../data/Plan_Attributes_PUF.csv',low_memory=False, encoding ='latin1')\n",
    "#rate=pd.read_csv('../data/Rate_PUF.csv',low_memory=False, encoding ='latin1')\n",
    "area=pd.read_csv('../data/raw_files/Service_Area_PUF.csv',low_memory=False, encoding ='latin1')"
   ]
  },
  {
   "cell_type": "code",
   "execution_count": 4,
   "metadata": {},
   "outputs": [],
   "source": [
    "#this gets rid of the Dental Only Plans leaving medical insurance plans then drops the column as superfilous\n",
    "area=area[area.DentalOnlyPlan != 'Yes']\n",
    "area.drop('DentalOnlyPlan', axis=1, inplace=True)\n",
    "\n",
    "area=area.drop(['BusinessYear','SourceName', 'ImportDate'], axis = 1)\n",
    "#area.info()"
   ]
  },
  {
   "cell_type": "code",
   "execution_count": 5,
   "metadata": {},
   "outputs": [],
   "source": [
    "# grab states w/ zipcode level plans\n",
    "\n",
    "zipcodes=area[area.ZipCodes.isnull() == False]"
   ]
  },
  {
   "cell_type": "code",
   "execution_count": 6,
   "metadata": {},
   "outputs": [],
   "source": [
    "area_FL=area[area.StateCode == 'FL'].copy()\n",
    "'''\n",
    "EDA shows FL does not have  plans based on 'PartialCounty', ''ZipCodes', or\n",
    "PartialCountyJustification' so they are being dropped\n",
    "'''\n",
    "\n",
    "area_FL=area_FL.drop(['PartialCounty', 'ZipCodes', 'PartialCountyJustification'], axis = 1)\n",
    "\n",
    "''' only offer Individual plans so that column is being dropped'''\n",
    "area_FL=area_FL.drop('MarketCoverage', axis = 1)\n"
   ]
  },
  {
   "cell_type": "code",
   "execution_count": 7,
   "metadata": {},
   "outputs": [],
   "source": [
    "in_state= area_FL[area_FL.CoverEntireState== 'Yes']\n",
    "uniques={} \n",
    "for col in area_FL.columns: \n",
    "    uniques[col]=area_FL[col].unique()\n",
    "uniques\n",
    "county_list=uniques['County']\n",
    "\n",
    "for county in county_list:\n",
    "    list1=['FL','16842','FLS001','BlueOptions','Yes']\n",
    "    list1.append(county)\n",
    "    area_FL = area_FL.append(pd.Series(list1, index=area_FL.columns ), ignore_index=True)"
   ]
  },
  {
   "cell_type": "code",
   "execution_count": 8,
   "metadata": {},
   "outputs": [
    {
     "name": "stdout",
     "output_type": "stream",
     "text": [
      "<class 'pandas.core.frame.DataFrame'>\n",
      "Int64Index: 213 entries, 0 to 214\n",
      "Data columns (total 3 columns):\n",
      "IssuerId         213 non-null int32\n",
      "ServiceAreaId    213 non-null object\n",
      "County           213 non-null int32\n",
      "dtypes: int32(2), object(1)\n",
      "memory usage: 5.0+ KB\n"
     ]
    }
   ],
   "source": [
    "#dropna has to be done post split\n",
    "area_FL=area_FL.dropna()\n",
    "area_FL['IssuerId']=area_FL['IssuerId'].astype(int)\n",
    "area_FL['County']=area_FL['County'].astype(int)\n",
    "area_FL.drop(['StateCode','ServiceAreaName','CoverEntireState'],axis=1,inplace=True)\n",
    "\n",
    "area_FL.info()"
   ]
  },
  {
   "cell_type": "code",
   "execution_count": null,
   "metadata": {},
   "outputs": [],
   "source": []
  },
  {
   "cell_type": "markdown",
   "metadata": {},
   "source": [
    "## FIPS"
   ]
  },
  {
   "cell_type": "code",
   "execution_count": null,
   "metadata": {},
   "outputs": [],
   "source": [
    "#this works\n",
    "\n",
    "fips= pd.read_csv('../data/zipcodes-county-fips-crosswalk/ZIP-COUNTY-FIPS_2017-06.csv',  dtype='str')\n",
    "fips['STCOUNTYFP']=fips['STCOUNTYFP'].astype(int)\n",
    "fips['COUNTYNAME'] = fips['COUNTYNAME'].str.replace(r' County', '')\n",
    "#fips[['County','County_Name']]=fips[['STCOUNTYFP','COUNTYNAME']]\n",
    "fips = fips[fips.STATE== 'FL']\n",
    "\n",
    "#fips.reset_index(inplace=True)\n",
    "'''\n",
    "FL_zips =pd.DataFrame()\n",
    "FL_zips[['zipcode','County','County_Name']] = fips[['ZIP','STCOUNTYFP','COUNTYNAME']]\n",
    "\n",
    "FL_zips.to_csv('../data/clean_files/zipcodes.csv')\n",
    "'''\n",
    "FL_county =pd.DataFrame()\n",
    "FL_county[['County','County_Name']] = fips[['STCOUNTYFP','COUNTYNAME']]\n",
    "\n",
    "\n",
    "FL_county.sort_values(by=['County'])\n",
    "FL_county=FL_county.drop_duplicates(keep='first')\n",
    "result = pd.merge(area_FL,FL_county, how='left', on=['County', 'County'])\n",
    "#pd.merge(area_FL, FL_county, how='left', left='County',right='County')\n",
    "\n",
    "result.to_csv('../data/clean_files/area_FL.csv')\n",
    "\n",
    "result"
   ]
  },
  {
   "cell_type": "code",
   "execution_count": null,
   "metadata": {},
   "outputs": [],
   "source": []
  },
  {
   "cell_type": "markdown",
   "metadata": {},
   "source": [
    "## combine the two\n"
   ]
  },
  {
   "cell_type": "code",
   "execution_count": 10,
   "metadata": {},
   "outputs": [],
   "source": [
    "pd.merge(area_FL, FL_county, how='left', on='County')\n",
    "area_FL.to_csv('../data/clean_files/area_FL.csv')"
   ]
  },
  {
   "cell_type": "code",
   "execution_count": null,
   "metadata": {},
   "outputs": [],
   "source": []
  }
 ],
 "metadata": {
  "kernelspec": {
   "display_name": "Python 3",
   "language": "python",
   "name": "python3"
  },
  "language_info": {
   "codemirror_mode": {
    "name": "ipython",
    "version": 3
   },
   "file_extension": ".py",
   "mimetype": "text/x-python",
   "name": "python",
   "nbconvert_exporter": "python",
   "pygments_lexer": "ipython3",
   "version": "3.6.9"
  }
 },
 "nbformat": 4,
 "nbformat_minor": 2
}
