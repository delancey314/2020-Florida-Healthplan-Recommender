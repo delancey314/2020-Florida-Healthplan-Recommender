{
 "cells": [
  {
   "cell_type": "markdown",
   "metadata": {},
   "source": [
    " # Get the value of a checkbox in Flask\n",
    "    \n",
    "    ```<input type=\"checkbox\" name=\"match\" value=\"matchwithpairs\" checked> Auto Match```"
   ]
  },
  {
   "cell_type": "code",
   "execution_count": null,
   "metadata": {},
   "outputs": [],
   "source": [
    "from flask import Flask, request\n",
    "\n",
    "app = Flask(__name__)\n",
    "\n",
    "@app.route('/', methods=['GET', 'POST'])\n",
    "def index():\n",
    "    if request.method == 'POST':\n",
    "        print(request.form.getlist('hello'))\n",
    "\n",
    "    return '''<form method=\"post\">\n",
    "<input type=\"checkbox\" name=\"hello\" value=\"world\" checked>\n",
    "<input type=\"checkbox\" name=\"hello\" value=\"davidism\" checked>\n",
    "<input type=\"submit\">\n",
    "</form>'''\n",
    "\n",
    "app.run()"
   ]
  },
  {
   "cell_type": "code",
   "execution_count": null,
   "metadata": {},
   "outputs": [],
   "source": [
    "#  first way\n",
    "op1 = request.form.getlist('opcao1') # [u'Item 1'] []\n",
    "op2 = request.form.getlist('opcao2') # [u'Item 2'] []\n",
    "op3 = request.form.getlist('opcao3') # [u'Item 3'] []\n",
    "\n",
    "# second\n",
    "op1_checked = request.form.get(\"opcao1\") != None\n",
    "op2_checked = request.form.get(\"opcao2\") != None\n",
    "op3_checked = request.form.get(\"opcao3\") != None\n",
    "\n",
    "# third\n",
    "if request.form.get(\"opcao3\"):\n",
    "    op1_checked = True\n",
    "\n",
    "# fourth\n",
    "op1_checked, op1_checked, op1_checked = False, False, False\n",
    "if request.form.get(\"opcao1\"):\n",
    "    op1_checked = True\n",
    "if request.form.get(\"opcao2\"):\n",
    "    op2_checked = True\n",
    "if request.form.get(\"opcao3\"):\n",
    "    op3_checked = True\n",
    "\n",
    "# last way that I found ..\n",
    "op1_checked = \"opcao1\" in request.form\n",
    "op2_checked = \"opcao2\" in request.form\n",
    "op3_checked = \"opcao3\" in request.form"
   ]
  },
  {
   "cell_type": "markdown",
   "metadata": {},
   "source": [
    "# How to get if checkbox is checked on flask\n",
    "\n",
    "```\n",
    "request.form.get(\"name\")\n",
    " #name is the name of the form element(checkbox)\n",
    "\n",
    " <label class=\"btn btn-danger pzt active\">\n",
    "     <input type=\"checkbox\" name=\"name\" value=\"1\" data-id=\"0\"> Check\n",
    " </label>\n",
    "```"
   ]
  },
  {
   "cell_type": "code",
   "execution_count": null,
   "metadata": {},
   "outputs": [],
   "source": [
    "you can try the following:\n",
    "\n",
    "HTML:\n",
    "\n",
    "<div class=\"checkbox\">\n",
    "<label>\n",
    "    <input type=\"checkbox\" name=\"check\" value=\"edit\"> New entry\n",
    "</label>\n",
    "</div>\n",
    "\n",
    "\n",
    "\n",
    "In flask:\n",
    "\n",
    " value = request.form.getlist('check') \n",
    "\n",
    "\n",
    "\n",
    "This will give you the value of the the checkbox. Here value will be a list.\n",
    "\n",
    "value = [u'edit']"
   ]
  },
  {
   "cell_type": "markdown",
   "metadata": {},
   "source": [
    "# Get a list of checkboxes checked ie(['1','2','3'])\n"
   ]
  },
  {
   "cell_type": "markdown",
   "metadata": {},
   "source": [
    "## app.py"
   ]
  },
  {
   "cell_type": "code",
   "execution_count": null,
   "metadata": {},
   "outputs": [],
   "source": [
    "from flask import Flask, request\n",
    "\n",
    "app = Flask(__name__)\n",
    "\n",
    "@app.route('/', methods=['GET', 'POST'])\n",
    "def index():\n",
    "    if requestr.method == 'POST':\n",
    "        listx=request.form.getlist('mycheckbox')\n",
    "        return 'Done'\n",
    "    return _render_template('index.html')"
   ]
  },
  {
   "cell_type": "markdown",
   "metadata": {},
   "source": [
    "## index.html\n",
    "saved as checkbox basic.html"
   ]
  },
  {
   "cell_type": "code",
   "execution_count": null,
   "metadata": {},
   "outputs": [],
   "source": [
    "<head>\n",
    "#\n",
    "</head>\n",
    "'''\n",
    "note that values = what is in the list ['1,'2','3']\n",
    "'''\n",
    "<body>\n",
    "    <form method = \"POST\" action =\"/\">\n",
    "        Checkbox 1<input type=\"checkbox\" value=\"1\" name=\"mycheckbox\">\n",
    "        Checkbox 2<input type=\"checkbox\" value=\"2\" name=\"mycheckbox\">\n",
    "        Checkbox 3<input type=\"checkbox\" value=\"3\" name=\"mycheckbox\">\n",
    "        <input type=\"submit\">\n",
    "    </form>\n",
    "</body>"
   ]
  },
  {
   "cell_type": "code",
   "execution_count": null,
   "metadata": {},
   "outputs": [],
   "source": [
    "https://www.w3schools.com/bootstrap/default.asp\n",
    "    https://getbootstrap.com/\n",
    "        https://github.com/GalvanizeDataScience/lectures/tree/Denver/data-products/frank-burkholder\n",
    "            https://htmlcheatsheet.com/\n",
    "                https://pythonise.com/series/learning-flask/flask-application-structure\n"
   ]
  },
  {
   "cell_type": "markdown",
   "metadata": {},
   "source": [
    "# working but ugly checklist\n",
    "\n",
    "conditions.html"
   ]
  },
  {
   "cell_type": "code",
   "execution_count": null,
   "metadata": {},
   "outputs": [],
   "source": [
    "<!DOCTYPE html>\n",
    "<html lang=\"en\">\n",
    "<head>\n",
    "  <title>Bootstrap Example</title>\n",
    "  <meta charset=\"utf-8\">\n",
    "  <meta name=\"viewport\" content=\"width=device-width, initial-scale=1\">\n",
    "  <link rel=\"stylesheet\" href=\"https://maxcdn.bootstrapcdn.com/bootstrap/3.4.0/css/bootstrap.min.css\">\n",
    "  <script src=\"https://ajax.googleapis.com/ajax/libs/jquery/3.4.1/jquery.min.js\"></script>\n",
    "  <script src=\"https://maxcdn.bootstrapcdn.com/bootstrap/3.4.0/js/bootstrap.min.js\"></script>\n",
    "</head>\n",
    "\n",
    "<body>\n",
    "\n",
    "<div class=\"container\">\n",
    "    <h2>Medical Conditions</h2>\n",
    "    <form class=\"form-inline\" method = \"POST\" action=\"/analysis\">\n",
    "        <div class=\"form-group\">\n",
    "                <h3>Cancer</h3>\n",
    "                    Bone Marrow Transplant<input type=\"checkbox\" value=\"bone\" name=\"mycheckbox\">\n",
    "                    Chemotherapy<input type=\"checkbox\" value=\"chemo\" name=\"mycheckbox\">\n",
    "                    Radiation<input type=\"checkbox\" value=\"rad\" name=\"mycheckbox\">\n",
    "                    Heart-Lung Rehab<input type=\"checkbox\" value=\"cpr\" name=\"mycheckbox\">\n",
    "                    Heart Disease Management Program<input type=\"checkbox\" value=\"hrtman\" name=\"mycheckbox\">\n",
    "                    Blood Pressure-Cholesterol Management Program<input type=\"checkbox\" value=\"bpcho\" name=\"mycheckbox\">\n",
    "                    Diabetes Care Management<input type=\"checkbox\" value=\"diab_care\" name=\"mycheckbox\">\n",
    "                    Diabetes Education<input type=\"checkbox\" value=\"diab_edu\" name=\"mycheckbox\">\n",
    "                    Dialysis<input type=\"checkbox\" value=\"dialysis\" name=\"mycheckbox\">\n",
    "                    Infusion Therapy<input type=\"checkbox\" value=\"infus\" name=\"mycheckbox\">\n",
    "                    Genetic Testing Lab Services<input type=\"checkbox\" value=\"gene\" name=\"mycheckbox\">\n",
    "                    CT,PET,MRI Imaging<input type=\"checkbox\" value=\"pict\" name=\"mycheckbox\">\n",
    "                    Lab Services<input type=\"checkbox\" value=\"lab\" name=\"mycheckbox\">\n",
    "                    X-rays and Diagnostic Imaging<input type=\"checkbox\" value=\"xray\" name=\"mycheckbox\">\n",
    "                    Eye Glasses for Adults<input type=\"checkbox\" value=\"glass_a\" name=\"mycheckbox\">\n",
    "                    Eye Glasses for Children<input type=\"checkbox\" value=\"glass_c\" name=\"mycheckbox\">\n",
    "                    Eye Exam for Adults<input type=\"checkbox\" value=\"eye_a\" name=\"mycheckbox\">\n",
    "                    Eye Exam for Children<input type=\"checkbox\" value=\"eye_c\" name=\"mycheckbox\">\n",
    "                    Durable Medical Equipment<input type=\"checkbox\" value=\"dme\" name=\"mycheckbox\">\n",
    "                    Enteral/Parenteral and Oral Nutrition Therapy<input type=\"checkbox\" value=\"g_tube\" name=\"mycheckbox\">\n",
    "                    Habilitation Services (NOT REHAB)<input type=\"checkbox\" value=\"hab\" name=\"mycheckbox\">\n",
    "                    Hearing Aids and Cochlear Implants<input type=\"checkbox\" value=\"hear\" name=\"mycheckbox\">\n",
    "                    Home Health Care Services<input type=\"checkbox\" value=\"home\" name=\"mycheckbox\">\n",
    "                    Hospice Services<input type=\"checkbox\" value=\"hosp\" name=\"mycheckbox\">\n",
    "                    Long-Term/Custodial Nursing Home Care<input type=\"checkbox\" value=\"long\" name=\"mycheckbox\">\n",
    "                    Pain Management Program<input type=\"checkbox\" value=\"pain\" name=\"mycheckbox\">\n",
    "                    Private-Duty Nursing<input type=\"checkbox\" value=\"priv_rn\" name=\"mycheckbox\">\n",
    "                    Osteoporosis<input type=\"checkbox\" value=\"osteo\" name=\"mycheckbox\">\n",
    "                    Prosthetic Devices<input type=\"checkbox\" value=\"prosth\" name=\"mycheckbox\">\n",
    "                    Skilled Nursing Facility<input type=\"checkbox\" value=\"skill_rn\" name=\"mycheckbox\">\n",
    "                    Emergency Room Services<input type=\"checkbox\" value=\"er\" name=\"mycheckbox\">\n",
    "                    Emergency Transportation/Ambulance<input type=\"checkbox\" value=\"ambu\" name=\"mycheckbox\">\n",
    "                    Hospital Stay<input type=\"checkbox\" value=\"hosp\" name=\"mycheckbox\">\n",
    "                    Inpatient Physician and Surgical Services<input type=\"checkbox\" value=\"inpt\" name=\"mycheckbox\">\n",
    "                    Allergy Injections<input type=\"checkbox\" value=\"all_inj\" name=\"mycheckbox\">\n",
    "                    Allergy Testing<input type=\"checkbox\" value=\"all_test\" name=\"mycheckbox\">\n",
    "                    Asthma Management Program<input type=\"checkbox\" value=\"breath\" name=\"mycheckbox\">\n",
    "                    Preventive Care/Screening/Immunization<input type=\"checkbox\" value=\"prevent\" name=\"mycheckbox\">\n",
    "                    Transplant<input type=\"checkbox\" value=\"transplant\" name=\"mycheckbox\">\n",
    "                    Abortion for Which Public Funding is Prohibited<input type=\"checkbox\" value=\"abort\" name=\"mycheckbox\">\n",
    "                    Delivery and All Inpatient Services for Maternity Care<input type=\"checkbox\" value=\"l_d\" name=\"mycheckbox\">\n",
    "                    Infertility Treatment<input type=\"checkbox\" value=\"infert\" name=\"mycheckbox\">\n",
    "                    Newborn Hearing Screening<input type=\"checkbox\" value=\"b_hear\" name=\"mycheckbox\">\n",
    "                    Newborn Services Other<input type=\"checkbox\" value=\"new_o\" name=\"mycheckbox\">\n",
    "                    Nutrition/Formulas<input type=\"checkbox\" value=\"nutr\" name=\"mycheckbox\">\n",
    "                    Pregnancy Management Program<input type=\"checkbox\" value=\"preg_m\" name=\"mycheckbox\">\n",
    "                    Prenatal and Postnatal Care<input type=\"checkbox\" value=\"prenat\" name=\"mycheckbox\">\n",
    "                    Well Baby Visits and Care<input type=\"checkbox\" value=\"well_b\" name=\"mycheckbox\">\n",
    "                    Depression Management Program<input type=\"checkbox\" value=\"depr\" name=\"mycheckbox\">\n",
    "                    Mental Health Office Visit<input type=\"checkbox\" value=\"ment_off\" name=\"mycheckbox\">\n",
    "                    Mental/Behavioral Health Inpatient Services<input type=\"checkbox\" value=\"ment_in\" name=\"mycheckbox\">\n",
    "                    Mental/Behavioral Health Outpatient Services<input type=\"checkbox\" value=\"ment_out\" name=\"mycheckbox\">\n",
    "                    Mental Health Other<input type=\"checkbox\" value=\"ment_other\" name=\"mycheckbox\">\n",
    "                    Other Practitioner Office Visit (Nurse,  Physician Assistant)<input type=\"checkbox\" value=\"not_doc\" name=\"mycheckbox\">\n",
    "                    Outpatient Surgery Physician/Surgical Services<input type=\"checkbox\" value=\"out_surg\" name=\"mycheckbox\">\n",
    "                    Primary Care Visit to Treat an Injury or Illness<input type=\"checkbox\" value=\"pcp\" name=\"mycheckbox\">\n",
    "                    Routine Foot Care<input type=\"checkbox\" value=\"foot\" name=\"mycheckbox\">\n",
    "                    Specialist Visit<input type=\"checkbox\" value=\"spec\" name=\"mycheckbox\">\n",
    "                    Telehealth<input type=\"checkbox\" value=\"tele\" name=\"mycheckbox\">\n",
    "                    Urgent Care<input type=\"checkbox\" value=\"urgent\" name=\"mycheckbox\">\n",
    "                    Low Back Pain Management Program<input type=\"checkbox\" value=\"pain\" name=\"mycheckbox\">\n",
    "                    Outpatient Observation<input type=\"checkbox\" value=\"observ\" name=\"mycheckbox\">\n",
    "                    Outpatient Rehabilitation Services<input type=\"checkbox\" value=\"rehab_out\" name=\"mycheckbox\">\n",
    "                    Rehabilitative Occupational and Rehabilitative Physical Therapy<input type=\"checkbox\" value=\"pt_rehab\" name=\"mycheckbox\">\n",
    "                    Rehabilitative Speech Therapy<input type=\"checkbox\" value=\"speech\" name=\"mycheckbox\">\n",
    "                    Substance Abuse - Inpatient<input type=\"checkbox\" value=\"drug_in\" name=\"mycheckbox\">\n",
    "                    Substance Abuse -Outpatient<input type=\"checkbox\" value=\"drug_out\" name=\"mycheckbox\">\n",
    "                    Substance Abuse Office Visit<input type=\"checkbox\" value=\"drug_off\" name=\"mycheckbox\">\n",
    "                    Acupuncture<input type=\"checkbox\" value=\"acup\" name=\"mycheckbox\">\n",
    "                    Bariatric Surgery<input type=\"checkbox\" value=\"staple\" name=\"mycheckbox\">\n",
    "                    Chiropractic Care<input type=\"checkbox\" value=\"chiro\" name=\"mycheckbox\">\n",
    "                    Cosmetic Surgery<input type=\"checkbox\" value=\"cosm\" name=\"mycheckbox\">\n",
    "                    Fitness Center Membership<input type=\"checkbox\" value=\"fit\" name=\"mycheckbox\">\n",
    "                    Gym Access<input type=\"checkbox\" value=\"gym\" name=\"mycheckbox\">\n",
    "                    Hyperbaric Oxygen Therapy<input type=\"checkbox\" value=\"o2\" name=\"mycheckbox\">\n",
    "                    Nutritional Counseling<input type=\"checkbox\" value=\"nutr_counc\" name=\"mycheckbox\">\n",
    "                    TMJ disorders<input type=\"checkbox\" value=\"tmj\" name=\"mycheckbox\">\n",
    "                    Weight Loss Programs<input type=\"checkbox\" value=\"kg_m\" name=\"mycheckbox\">\n",
    "                    No Management Program<input type=\"checkbox\" value=\"no_m\" name=\"mycheckbox\">\n",
    "                    \n",
    "        </div>\n",
    "        <input type=\"submit\">\n",
    "    </form>\n",
    "    \n",
    "</body>"
   ]
  },
  {
   "cell_type": "markdown",
   "metadata": {},
   "source": [
    "## oroginal head for conditions"
   ]
  },
  {
   "cell_type": "code",
   "execution_count": null,
   "metadata": {},
   "outputs": [],
   "source": [
    "<html lang=\"en\">\n",
    "  <head>\n",
    "    <meta charset=\"utf-8\">\n",
    "    <meta http-equiv=\"X-UA-Compatible\" content=\"IE=edge\">\n",
    "    <meta name=\"viewport\" content=\"width=device-width, initial-scale=1\">\n",
    "    <!-- The above 3 meta tags *must* come first in the head; any other head content must come *after* these tags -->\n",
    "    <meta name=\"description\" content=\"\">\n",
    "    <meta name=\"author\" content=\"\">\n",
    "    <link rel=\"icon\" href=\"../../favicon.ico\">\n"
   ]
  }
 ],
 "metadata": {
  "kernelspec": {
   "display_name": "Python 3",
   "language": "python",
   "name": "python3"
  },
  "language_info": {
   "codemirror_mode": {
    "name": "ipython",
    "version": 3
   },
   "file_extension": ".py",
   "mimetype": "text/x-python",
   "name": "python",
   "nbconvert_exporter": "python",
   "pygments_lexer": "ipython3",
   "version": "3.7.3"
  }
 },
 "nbformat": 4,
 "nbformat_minor": 2
}
