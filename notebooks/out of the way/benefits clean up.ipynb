{
 "cells": [
  {
   "cell_type": "code",
   "execution_count": 1,
   "metadata": {},
   "outputs": [],
   "source": [
    "import pandas as pd\n",
    "import numpy as np\n",
    "import matplotlib.pyplot as plt\n",
    "%matplotlib inline"
   ]
  },
  {
   "cell_type": "code",
   "execution_count": 2,
   "metadata": {},
   "outputs": [],
   "source": [
    "\n",
    "pd.set_option('display.max_rows',1500)\n",
    "pd.set_option('display.max_columns', 500)"
   ]
  },
  {
   "cell_type": "code",
   "execution_count": 3,
   "metadata": {},
   "outputs": [],
   "source": [
    "#area=pd.read_csv('../data/clean_files/area_FL.csv')\n",
    "ben_cost=pd.read_csv('../data/raw_files/Benefits_Cost_Sharing_PUF.csv',low_memory=False, encoding ='latin1')"
   ]
  },
  {
   "cell_type": "code",
   "execution_count": 4,
   "metadata": {},
   "outputs": [
    {
     "name": "stdout",
     "output_type": "stream",
     "text": [
      "<class 'pandas.core.frame.DataFrame'>\n",
      "RangeIndex: 1182666 entries, 0 to 1182665\n",
      "Data columns (total 24 columns):\n",
      "BusinessYear           1182666 non-null int64\n",
      "StateCode              1182666 non-null object\n",
      "IssuerId               1182666 non-null int64\n",
      "SourceName             1182666 non-null object\n",
      "ImportDate             1182666 non-null object\n",
      "StandardComponentId    1182666 non-null object\n",
      "PlanId                 1182666 non-null object\n",
      "BenefitName            1182666 non-null object\n",
      "CopayInnTier1          917253 non-null object\n",
      "CopayInnTier2          176973 non-null object\n",
      "CopayOutofNet          917253 non-null object\n",
      "CoinsInnTier1          917253 non-null object\n",
      "CoinsInnTier2          176973 non-null object\n",
      "CoinsOutofNet          917253 non-null object\n",
      "IsEHB                  894774 non-null object\n",
      "IsCovered              1135613 non-null object\n",
      "QuantLimitOnSvc        299735 non-null object\n",
      "LimitQty               166205 non-null float64\n",
      "LimitUnit              166160 non-null object\n",
      "Exclusions             62364 non-null object\n",
      "Explanation            354800 non-null object\n",
      "EHBVarReason           279208 non-null object\n",
      "IsExclFromInnMOOP      981843 non-null object\n",
      "IsExclFromOonMOOP      981199 non-null object\n",
      "dtypes: float64(1), int64(2), object(21)\n",
      "memory usage: 216.6+ MB\n"
     ]
    }
   ],
   "source": [
    "ben_cost[ben_cost['BenefitName']=='Emergency Room Services']\n",
    "ben_cost.info()  "
   ]
  },
  {
   "cell_type": "code",
   "execution_count": 5,
   "metadata": {},
   "outputs": [
    {
     "name": "stdout",
     "output_type": "stream",
     "text": [
      "<class 'pandas.core.frame.DataFrame'>\n",
      "Int64Index: 73779 entries, 58144 to 150911\n",
      "Data columns (total 7 columns):\n",
      "StateCode              73779 non-null object\n",
      "IssuerId               73779 non-null int64\n",
      "StandardComponentId    73779 non-null object\n",
      "PlanId                 73779 non-null object\n",
      "BenefitName            73779 non-null object\n",
      "IsCovered              71816 non-null object\n",
      "Exclusions             4479 non-null object\n",
      "dtypes: int64(1), object(6)\n",
      "memory usage: 4.5+ MB\n"
     ]
    }
   ],
   "source": [
    "\n",
    "ben_cost=ben_cost.drop(['BusinessYear','SourceName', 'ImportDate'], axis = 1)\n",
    "ben_cost=ben_cost[ben_cost.StateCode == 'FL'].copy()\n",
    "\n",
    "ben=ben_cost.copy()\n",
    "ben.drop(columns=['CopayInnTier1', 'CopayInnTier2', 'CopayOutofNet', 'CoinsInnTier1','CoinsInnTier2', 'CoinsOutofNet', 'IsEHB',\n",
    "                'QuantLimitOnSvc', 'LimitQty', 'LimitUnit', 'Explanation','EHBVarReason', 'IsExclFromInnMOOP', 'IsExclFromOonMOOP'], axis=1, inplace=True)\n",
    "\n",
    "dental = ['Basic Dental Care - Child', 'Orthodontia - Child', 'Major Dental Care - Child',\n",
    "          'Basic Dental Care - Adult', 'Orthodontia - Adult', 'Major Dental Care - Adult',\n",
    "          'Dental Check-Up for Children', 'Routine Dental Services (Adult)', 'Accidental Dental',\n",
    "          'Dental Anesthesia','Congenital Anomaly, including Cleft Lip/Palate', 'Dental X-rays',\n",
    "          'Topical Flouride', 'Sealants', 'Fillings', 'Recementation of Space Maintainers', \n",
    "          'Removal of Fixed Space Maintainers', 'Restorative Services', \n",
    "          'Periodontal Root Scaling and Planing', 'Periodontal Maintenance', 'Periodontal and Osseous Surgery',\n",
    "          'Occlusal Adjustments', 'Root Canal Therapy and Retreatment', 'Periradicular Surgical Procedures',\n",
    "          'Partial Pulpotomy', 'Vital Pulpotomy', 'Denture Adjustments',\n",
    "          'Initial Placement of Bridges and Dentures', 'Tissue Conditioning', 'Reline and Rebase', \n",
    "          'Post and Core Build-up', 'Extractions', 'Complex Oral Surgery', 'Implants',\n",
    "          'Immediate Dentures', 'Anesthesia Services for Dental Care', 'Accidental Dental Adult','Denture Reline and Rebase']\n",
    "\n",
    "drugs = ['Off Label Prescription Drugs', 'Generic Drugs', 'Preferred Brand Drugs','Non-Preferred Brand Drugs','Specialty Drugs',\n",
    "         'Tier 2 Generic Drugs', 'Preferred Generic Drugs']\n",
    "ben=ben[ben['BenefitName'].isin(dental) == False]\n",
    "ben=ben[ben['BenefitName'].isin(drugs) == False]\n",
    "#[df[df[\"column\"].isin([\"value\"]) == False]]\n",
    "#ben.drop('StateCode', axis=1, inplace=True)\n",
    "\n",
    "'''\n",
    "add these if needed\\\\['IssuerId', 'StandardComponentId', 'PlanId', 'BenefitName',\n",
    "'IsCovered','QuantLimitOnSvc', 'LimitQty', 'LimitUnit', 'Exclusions']\n",
    "'StateCode','CopayInnTier1', 'CopayInnTier2', 'CopayOutofNet', 'CoinsInnTier1',\n",
    "       'CoinsInnTier2', 'CoinsOutofNet', 'IsEHB',\n",
    "       'QuantLimitOnSvc', 'LimitQty', 'LimitUnit', 'Explanation',\n",
    "       'EHBVarReason', 'IsExclFromInnMOOP', 'IsExclFromOonMOOP'\n",
    "'''\n",
    "\n",
    "ben.info()"
   ]
  },
  {
   "cell_type": "code",
   "execution_count": 6,
   "metadata": {},
   "outputs": [
    {
     "data": {
      "text/html": [
       "<div>\n",
       "<style scoped>\n",
       "    .dataframe tbody tr th:only-of-type {\n",
       "        vertical-align: middle;\n",
       "    }\n",
       "\n",
       "    .dataframe tbody tr th {\n",
       "        vertical-align: top;\n",
       "    }\n",
       "\n",
       "    .dataframe thead th {\n",
       "        text-align: right;\n",
       "    }\n",
       "</style>\n",
       "<table border=\"1\" class=\"dataframe\">\n",
       "  <thead>\n",
       "    <tr style=\"text-align: right;\">\n",
       "      <th></th>\n",
       "      <th>StateCode</th>\n",
       "      <th>IssuerId</th>\n",
       "      <th>StandardComponentId</th>\n",
       "      <th>PlanId</th>\n",
       "      <th>BenefitName</th>\n",
       "      <th>IsCovered</th>\n",
       "      <th>Exclusions</th>\n",
       "    </tr>\n",
       "  </thead>\n",
       "  <tbody>\n",
       "    <tr>\n",
       "      <th>58144</th>\n",
       "      <td>FL</td>\n",
       "      <td>12379</td>\n",
       "      <td>12379FL0010001</td>\n",
       "      <td>12379FL0010001-02</td>\n",
       "      <td>Routine Eye Exam (Adult)</td>\n",
       "      <td>Not Covered</td>\n",
       "      <td>NaN</td>\n",
       "    </tr>\n",
       "    <tr>\n",
       "      <th>58145</th>\n",
       "      <td>FL</td>\n",
       "      <td>12379</td>\n",
       "      <td>12379FL0010001</td>\n",
       "      <td>12379FL0010001-02</td>\n",
       "      <td>Urgent Care Centers or Facilities</td>\n",
       "      <td>Covered</td>\n",
       "      <td>NaN</td>\n",
       "    </tr>\n",
       "    <tr>\n",
       "      <th>58146</th>\n",
       "      <td>FL</td>\n",
       "      <td>12379</td>\n",
       "      <td>12379FL0010001</td>\n",
       "      <td>12379FL0010001-02</td>\n",
       "      <td>Home Health Care Services</td>\n",
       "      <td>Covered</td>\n",
       "      <td>NaN</td>\n",
       "    </tr>\n",
       "    <tr>\n",
       "      <th>58147</th>\n",
       "      <td>FL</td>\n",
       "      <td>12379</td>\n",
       "      <td>12379FL0010001</td>\n",
       "      <td>12379FL0010001-02</td>\n",
       "      <td>Emergency Room Services</td>\n",
       "      <td>Covered</td>\n",
       "      <td>NaN</td>\n",
       "    </tr>\n",
       "    <tr>\n",
       "      <th>58148</th>\n",
       "      <td>FL</td>\n",
       "      <td>12379</td>\n",
       "      <td>12379FL0010001</td>\n",
       "      <td>12379FL0010001-02</td>\n",
       "      <td>Emergency Transportation/Ambulance</td>\n",
       "      <td>Covered</td>\n",
       "      <td>NaN</td>\n",
       "    </tr>\n",
       "  </tbody>\n",
       "</table>\n",
       "</div>"
      ],
      "text/plain": [
       "      StateCode  IssuerId StandardComponentId             PlanId  \\\n",
       "58144        FL     12379      12379FL0010001  12379FL0010001-02   \n",
       "58145        FL     12379      12379FL0010001  12379FL0010001-02   \n",
       "58146        FL     12379      12379FL0010001  12379FL0010001-02   \n",
       "58147        FL     12379      12379FL0010001  12379FL0010001-02   \n",
       "58148        FL     12379      12379FL0010001  12379FL0010001-02   \n",
       "\n",
       "                              BenefitName    IsCovered Exclusions  \n",
       "58144            Routine Eye Exam (Adult)  Not Covered        NaN  \n",
       "58145   Urgent Care Centers or Facilities      Covered        NaN  \n",
       "58146           Home Health Care Services      Covered        NaN  \n",
       "58147             Emergency Room Services      Covered        NaN  \n",
       "58148  Emergency Transportation/Ambulance      Covered        NaN  "
      ]
     },
     "execution_count": 6,
     "metadata": {},
     "output_type": "execute_result"
    }
   ],
   "source": [
    "ben.head()"
   ]
  },
  {
   "cell_type": "markdown",
   "metadata": {},
   "source": [
    "# make DF for example table"
   ]
  },
  {
   "cell_type": "code",
   "execution_count": 7,
   "metadata": {},
   "outputs": [
    {
     "data": {
      "text/html": [
       "<div>\n",
       "<style scoped>\n",
       "    .dataframe tbody tr th:only-of-type {\n",
       "        vertical-align: middle;\n",
       "    }\n",
       "\n",
       "    .dataframe tbody tr th {\n",
       "        vertical-align: top;\n",
       "    }\n",
       "\n",
       "    .dataframe thead th {\n",
       "        text-align: right;\n",
       "    }\n",
       "</style>\n",
       "<table border=\"1\" class=\"dataframe\">\n",
       "  <thead>\n",
       "    <tr style=\"text-align: right;\">\n",
       "      <th></th>\n",
       "      <th>StateCode</th>\n",
       "      <th>IssuerId</th>\n",
       "      <th>StandardComponentId</th>\n",
       "      <th>PlanId</th>\n",
       "      <th>BenefitName</th>\n",
       "      <th>IsCovered</th>\n",
       "    </tr>\n",
       "  </thead>\n",
       "  <tbody>\n",
       "    <tr>\n",
       "      <th>58144</th>\n",
       "      <td>FL</td>\n",
       "      <td>12379</td>\n",
       "      <td>12379FL0010001</td>\n",
       "      <td>12379FL0010001-02</td>\n",
       "      <td>Routine Eye Exam (Adult)</td>\n",
       "      <td>Not Covered</td>\n",
       "    </tr>\n",
       "    <tr>\n",
       "      <th>58145</th>\n",
       "      <td>FL</td>\n",
       "      <td>12379</td>\n",
       "      <td>12379FL0010001</td>\n",
       "      <td>12379FL0010001-02</td>\n",
       "      <td>Urgent Care Centers or Facilities</td>\n",
       "      <td>Covered</td>\n",
       "    </tr>\n",
       "    <tr>\n",
       "      <th>58146</th>\n",
       "      <td>FL</td>\n",
       "      <td>12379</td>\n",
       "      <td>12379FL0010001</td>\n",
       "      <td>12379FL0010001-02</td>\n",
       "      <td>Home Health Care Services</td>\n",
       "      <td>Covered</td>\n",
       "    </tr>\n",
       "  </tbody>\n",
       "</table>\n",
       "</div>"
      ],
      "text/plain": [
       "      StateCode  IssuerId StandardComponentId             PlanId  \\\n",
       "58144        FL     12379      12379FL0010001  12379FL0010001-02   \n",
       "58145        FL     12379      12379FL0010001  12379FL0010001-02   \n",
       "58146        FL     12379      12379FL0010001  12379FL0010001-02   \n",
       "\n",
       "                             BenefitName    IsCovered  \n",
       "58144           Routine Eye Exam (Adult)  Not Covered  \n",
       "58145  Urgent Care Centers or Facilities      Covered  \n",
       "58146          Home Health Care Services      Covered  "
      ]
     },
     "execution_count": 7,
     "metadata": {},
     "output_type": "execute_result"
    }
   ],
   "source": [
    "ben_table = ben\n",
    "ben_table.drop('Exclusions', axis=1, inplace=True)\n",
    "ben_table = ben_table.iloc[:3]\n",
    "\n",
    "ben_table"
   ]
  },
  {
   "cell_type": "code",
   "execution_count": 8,
   "metadata": {},
   "outputs": [
    {
     "data": {
      "text/plain": [
       "<matplotlib.table.Table at 0x7f2dd2d0eeb8>"
      ]
     },
     "execution_count": 8,
     "metadata": {},
     "output_type": "execute_result"
    },
    {
     "data": {
      "image/png": "[encoded data removed]",
      "text/plain": [
       "<Figure size 432x288 with 1 Axes>"
      ]
     },
     "metadata": {
      "needs_background": "light"
     },
     "output_type": "display_data"
    }
   ],
   "source": [
    "\n",
    "\n",
    "fig, ax = plt.subplots()\n",
    "\n",
    "# Hide axes\n",
    "ax.xaxis.set_visible(False) \n",
    "ax.yaxis.set_visible(False)\n",
    "\n",
    "# Table from Ed Smith answer\n",
    "clust_data = np.random.random((10,3))\n",
    "collabel=(\"col 1\", \"col 2\", \"col 3\")\n",
    "ax.table(cellText=ben_table.values,colLabels=ben_table.columns,loc='center')\n",
    "\n"
   ]
  },
  {
   "cell_type": "code",
   "execution_count": 9,
   "metadata": {},
   "outputs": [
    {
     "data": {
      "text/plain": [
       "72"
      ]
     },
     "execution_count": 9,
     "metadata": {},
     "output_type": "execute_result"
    }
   ],
   "source": [
    "len(ben.BenefitName.unique())"
   ]
  },
  {
   "cell_type": "markdown",
   "metadata": {},
   "source": [
    "# FL"
   ]
  },
  {
   "cell_type": "code",
   "execution_count": 10,
   "metadata": {},
   "outputs": [],
   "source": [
    "ben_FL=ben[ben['StateCode']=='FL']\n",
    "\n",
    "ben.drop('StateCode', axis=1, inplace=True)"
   ]
  },
  {
   "cell_type": "code",
   "execution_count": 13,
   "metadata": {},
   "outputs": [
    {
     "data": {
      "text/html": [
       "<div>\n",
       "<style scoped>\n",
       "    .dataframe tbody tr th:only-of-type {\n",
       "        vertical-align: middle;\n",
       "    }\n",
       "\n",
       "    .dataframe tbody tr th {\n",
       "        vertical-align: top;\n",
       "    }\n",
       "\n",
       "    .dataframe thead th {\n",
       "        text-align: right;\n",
       "    }\n",
       "</style>\n",
       "<table border=\"1\" class=\"dataframe\">\n",
       "  <thead>\n",
       "    <tr style=\"text-align: right;\">\n",
       "      <th></th>\n",
       "      <th>StateCode</th>\n",
       "      <th>IssuerId</th>\n",
       "      <th>StandardComponentId</th>\n",
       "      <th>PlanId</th>\n",
       "      <th>BenefitName</th>\n",
       "      <th>IsCovered</th>\n",
       "    </tr>\n",
       "  </thead>\n",
       "  <tbody>\n",
       "    <tr>\n",
       "      <th>58145</th>\n",
       "      <td>FL</td>\n",
       "      <td>12379</td>\n",
       "      <td>12379FL0010001</td>\n",
       "      <td>12379FL0010001-02</td>\n",
       "      <td>Urgent Care Centers or Facilities</td>\n",
       "      <td>Covered</td>\n",
       "    </tr>\n",
       "    <tr>\n",
       "      <th>58146</th>\n",
       "      <td>FL</td>\n",
       "      <td>12379</td>\n",
       "      <td>12379FL0010001</td>\n",
       "      <td>12379FL0010001-02</td>\n",
       "      <td>Home Health Care Services</td>\n",
       "      <td>Covered</td>\n",
       "    </tr>\n",
       "    <tr>\n",
       "      <th>58147</th>\n",
       "      <td>FL</td>\n",
       "      <td>12379</td>\n",
       "      <td>12379FL0010001</td>\n",
       "      <td>12379FL0010001-02</td>\n",
       "      <td>Emergency Room Services</td>\n",
       "      <td>Covered</td>\n",
       "    </tr>\n",
       "    <tr>\n",
       "      <th>58148</th>\n",
       "      <td>FL</td>\n",
       "      <td>12379</td>\n",
       "      <td>12379FL0010001</td>\n",
       "      <td>12379FL0010001-02</td>\n",
       "      <td>Emergency Transportation/Ambulance</td>\n",
       "      <td>Covered</td>\n",
       "    </tr>\n",
       "    <tr>\n",
       "      <th>58149</th>\n",
       "      <td>FL</td>\n",
       "      <td>12379</td>\n",
       "      <td>12379FL0010001</td>\n",
       "      <td>12379FL0010001-02</td>\n",
       "      <td>Inpatient Hospital Services (e.g., Hospital Stay)</td>\n",
       "      <td>Covered</td>\n",
       "    </tr>\n",
       "  </tbody>\n",
       "</table>\n",
       "</div>"
      ],
      "text/plain": [
       "      StateCode  IssuerId StandardComponentId             PlanId  \\\n",
       "58145        FL     12379      12379FL0010001  12379FL0010001-02   \n",
       "58146        FL     12379      12379FL0010001  12379FL0010001-02   \n",
       "58147        FL     12379      12379FL0010001  12379FL0010001-02   \n",
       "58148        FL     12379      12379FL0010001  12379FL0010001-02   \n",
       "58149        FL     12379      12379FL0010001  12379FL0010001-02   \n",
       "\n",
       "                                             BenefitName IsCovered  \n",
       "58145                  Urgent Care Centers or Facilities   Covered  \n",
       "58146                          Home Health Care Services   Covered  \n",
       "58147                            Emergency Room Services   Covered  \n",
       "58148                 Emergency Transportation/Ambulance   Covered  \n",
       "58149  Inpatient Hospital Services (e.g., Hospital Stay)   Covered  "
      ]
     },
     "execution_count": 13,
     "metadata": {},
     "output_type": "execute_result"
    }
   ],
   "source": [
    "cover_FL = ben_FL[ben_FL['IsCovered']== 'Covered']\n",
    "not_cover_FL = ben[ben['IsCovered']== 'Not Covered']\n",
    "cover_FL.head()"
   ]
  },
  {
   "cell_type": "markdown",
   "metadata": {},
   "source": [
    "# FL covered"
   ]
  },
  {
   "cell_type": "code",
   "execution_count": 12,
   "metadata": {},
   "outputs": [
    {
     "ename": "AttributeError",
     "evalue": "'DataFrame' object has no attribute 'Exclusions'",
     "output_type": "error",
     "traceback": [
      "\u001b[0;31m------------------------------\u001b[0m",
      "\u001b[0;31mAttributeError\u001b[0mTraceback (most recent call last)",
      "\u001b[0;32m<ipython-input-12-da8ff85efde2>\u001b[0m in \u001b[0;36m<module>\u001b[0;34m\u001b[0m\n\u001b[1;32m      1\u001b[0m \u001b[0;31m#cover_FL.BenefitName.unique()\u001b[0m\u001b[0;34m\u001b[0m\u001b[0;34m\u001b[0m\u001b[0;34m\u001b[0m\u001b[0m\n\u001b[1;32m      2\u001b[0m \u001b[0;31m#not_cover_FL.BenefitName.unique()\u001b[0m\u001b[0;34m\u001b[0m\u001b[0;34m\u001b[0m\u001b[0;34m\u001b[0m\u001b[0m\n\u001b[0;32m----> 3\u001b[0;31m \u001b[0mcover_FL\u001b[0m\u001b[0;34m.\u001b[0m\u001b[0mExclusions\u001b[0m\u001b[0;34m.\u001b[0m\u001b[0munique\u001b[0m\u001b[0;34m(\u001b[0m\u001b[0;34m)\u001b[0m\u001b[0;34m\u001b[0m\u001b[0;34m\u001b[0m\u001b[0m\n\u001b[0m\u001b[1;32m      4\u001b[0m \u001b[0;31m#cover_FL[cover_FL['BenefitName']=='Hyperbaric Oxygen Therapy']\u001b[0m\u001b[0;34m\u001b[0m\u001b[0;34m\u001b[0m\u001b[0;34m\u001b[0m\u001b[0m\n\u001b[1;32m      5\u001b[0m \u001b[0;31m#cover_FL.groupby(['IssuerId','PlanId']).count()\u001b[0m\u001b[0;34m\u001b[0m\u001b[0;34m\u001b[0m\u001b[0;34m\u001b[0m\u001b[0m\n",
      "\u001b[0;32m~/anaconda3/lib/python3.7/site-packages/pandas/core/generic.py\u001b[0m in \u001b[0;36m__getattr__\u001b[0;34m(self, name)\u001b[0m\n\u001b[1;32m   5065\u001b[0m             \u001b[0;32mif\u001b[0m \u001b[0mself\u001b[0m\u001b[0;34m.\u001b[0m\u001b[0m_info_axis\u001b[0m\u001b[0;34m.\u001b[0m\u001b[0m_can_hold_identifiers_and_holds_name\u001b[0m\u001b[0;34m(\u001b[0m\u001b[0mname\u001b[0m\u001b[0;34m)\u001b[0m\u001b[0;34m:\u001b[0m\u001b[0;34m\u001b[0m\u001b[0;34m\u001b[0m\u001b[0m\n\u001b[1;32m   5066\u001b[0m                 \u001b[0;32mreturn\u001b[0m \u001b[0mself\u001b[0m\u001b[0;34m[\u001b[0m\u001b[0mname\u001b[0m\u001b[0;34m]\u001b[0m\u001b[0;34m\u001b[0m\u001b[0;34m\u001b[0m\u001b[0m\n\u001b[0;32m-> 5067\u001b[0;31m             \u001b[0;32mreturn\u001b[0m \u001b[0mobject\u001b[0m\u001b[0;34m.\u001b[0m\u001b[0m__getattribute__\u001b[0m\u001b[0;34m(\u001b[0m\u001b[0mself\u001b[0m\u001b[0;34m,\u001b[0m \u001b[0mname\u001b[0m\u001b[0;34m)\u001b[0m\u001b[0;34m\u001b[0m\u001b[0;34m\u001b[0m\u001b[0m\n\u001b[0m\u001b[1;32m   5068\u001b[0m \u001b[0;34m\u001b[0m\u001b[0m\n\u001b[1;32m   5069\u001b[0m     \u001b[0;32mdef\u001b[0m \u001b[0m__setattr__\u001b[0m\u001b[0;34m(\u001b[0m\u001b[0mself\u001b[0m\u001b[0;34m,\u001b[0m \u001b[0mname\u001b[0m\u001b[0;34m,\u001b[0m \u001b[0mvalue\u001b[0m\u001b[0;34m)\u001b[0m\u001b[0;34m:\u001b[0m\u001b[0;34m\u001b[0m\u001b[0;34m\u001b[0m\u001b[0m\n",
      "\u001b[0;31mAttributeError\u001b[0m: 'DataFrame' object has no attribute 'Exclusions'"
     ]
    }
   ],
   "source": [
    "#cover_FL.BenefitName.unique()\n",
    "#not_cover_FL.BenefitName.unique()\n",
    "cover_FL.Exclusions.unique()\n",
    "#cover_FL[cover_FL['BenefitName']=='Hyperbaric Oxygen Therapy']\n",
    "#cover_FL.groupby(['IssuerId','PlanId']).count()"
   ]
  },
  {
   "cell_type": "code",
   "execution_count": null,
   "metadata": {},
   "outputs": [],
   "source": [
    "df1=cover_FL[['StandardComponentId','PlanId','BenefitName']]\n",
    "#ben_dummies=pd.get_dummies(df1.BenefitName)\n",
    "#df1=pd.concat([df1,ben_dummies], axis=1)\n",
    "# df2=pd.pivot_table(df1, values ='BenefitName')\n",
    "\n",
    "#pd.pivot_table(df1, values=\"value\", index=[\"city\"], columns=\"cuisine\", fill_value=0)\n",
    "df1['value']=1\n",
    "table = pd.pivot_table(df1, values=['StandardComponentId'], index=['PlanId'],columns=['BenefitName'],aggfunc='count')\n",
    "#table = pd.pivot_table(df1, values=['value'], index=['PlanId'],columns=['BenefitName'],fill_value=0)\n",
    "\n",
    "#table.columns = table.columns.droplevel()\n",
    "#table.to_csv('test.csv')\n",
    "table.info()\n"
   ]
  },
  {
   "cell_type": "markdown",
   "metadata": {},
   "source": [
    "# Covered Exclusions"
   ]
  },
  {
   "cell_type": "code",
   "execution_count": null,
   "metadata": {},
   "outputs": [],
   "source": [
    "conditions = cover_FL[['PlanId','StandardComponentId','BenefitName', 'Exclusions']]\n",
    " #DataFrame.pivot(self, index=None, columns=None, values=None)[source]\n",
    "conditions = conditions[conditions.Exclusions.notna()]\n",
    "unies= conditions.drop_duplicates()\n",
    "unies.sort_values('BenefitName')\n",
    "#unies.BenefitName.unique()\n",
    "#pandas.pivot_table(data, values=None, index=None, columns=None, aggfunc='mean', fill_value=None, margins=False, dropna=True, margins_name='All', observed=False)\n",
    "#conditionals=conditions.pivot(values='Exclusions',columns='BenefitName',index='PlanId')\n",
    "#conditionals.info()"
   ]
  },
  {
   "cell_type": "code",
   "execution_count": null,
   "metadata": {},
   "outputs": [],
   "source": [
    "conditional_covered =['Delivery and All Inpatient Services for Maternity Care','Diabetes Care Management','Mental/Behavioral Health Outpatient Services','Mental/Behavioral Health Inpatient Services','Substance Abuse Disorder Outpatient Services','Substance Abuse Disorder Inpatient Services','Durable Medical Equipment']\n",
    "conditionals=unies.loc[unies['BenefitName'].isin(conditional_covered)]\n",
    "conditionals.to_csv('../data/clean_files/covered_exclusions.csv')"
   ]
  },
  {
   "cell_type": "code",
   "execution_count": null,
   "metadata": {},
   "outputs": [],
   "source": [
    "#flattened = pd.DataFrame(pivoted.to_records())\n",
    "df3=pd.DataFrame(table.to_records())\n",
    "\n",
    "old_names=df3.columns\n",
    "old_names=old_names.drop(['PlanId'])\n",
    "new_names=[x[1] for x in old_names]\n",
    "old_names"
   ]
  },
  {
   "cell_type": "code",
   "execution_count": null,
   "metadata": {},
   "outputs": [],
   "source": [
    "exclusions_dict = {'Delivery and All Inpatient Services for Maternity Care': ['Pre-certification/pre-authorization of coverage required for non-emergency admissions','Pre-certification/pre-authorization of coverage required for non-emergency admissions.',\n",
    "                                                                         ' Cost sharing is a per day limit.'],\n",
    "              'Diabetes Care Management':['Available at FHCP Pharmacy Only. Mail Order not available',\n",
    "                                          'In order for services to be covered, diabetes outpatient self-management training and educational services must be provided under the direct supervision of an FHCP certified Diabetes Educator or board-certified Physician spcializing in endocrinology. Additionally, nutrition counseling must be provided by a licensed FHCP contracted dietitian.'],\n",
    "              'Durable Medical Equipment':'Items that are primarily for convenience or comfort and items available over-the-counter are excluded. The replacement of equipment is also excluded, unless it is non-functional and not practically repairable.',\n",
    "              'Mental/Behavioral Health Inpatient Services': 'Any inpatient Services provided in a residential treatment Facility are excluded from Coverage',\n",
    "              'Mental/Behavioral Health Outpatient Services':'Any outpatient Services provided in a residential treatment Facility are excluded from Coverage',\n",
    "              'Substance Abuse Disorder Inpatient Services':'Any inpatient Services provided in a residential treatment Facility are excluded from Coverage.',\n",
    "              'Substance Abuse Disorder Outpatient Services':'Any outpatient Services provided in a residential treatment Facility are excluded from Coverage.'\n",
    "             }"
   ]
  },
  {
   "cell_type": "markdown",
   "metadata": {},
   "source": [
    "\n",
    "def make_exclusions(df):\n",
    "    \n",
    "    exclusions_dict = {'Delivery and All Inpatient Services for Maternity Care': [,\n",
    "              'Diabetes Care Management':['Available at FHCP Pharmacy Only. Mail Order not available',\n",
    "                                          'In order for services to be covered, diabetes outpatient self-management training and educational services must be provided under the direct supervision of an FHCP certified Diabetes Educator or board-certified Physician spcializing in endocrinology. Additionally, nutrition counseling must be provided by a licensed FHCP contracted dietitian.'],\n",
    "              'Durable Medical Equipment':'Items that are primarily for convenience or comfort and items available over-the-counter are excluded. The replacement of equipment is also excluded, unless it is non-functional and not practically repairable.',\n",
    "              'Mental/Behavioral Health Inpatient Services': 'Any inpatient Services provided in a residential treatment Facility are excluded from Coverage',\n",
    "              'Mental/Behavioral Health Outpatient Services':'Any outpatient Services provided in a residential treatment Facility are excluded from Coverage',\n",
    "              'Substance Abuse Disorder Inpatient Services':'Any inpatient Services provided in a residential treatment Facility are excluded from Coverage.',\n",
    "              'Substance Abuse Disorder Outpatient Services':'Any outpatient Services provided in a residential treatment Facility are excluded from Coverage.'})\n",
    "    \n",
    "    temp_df=df[['BenefitName','Exclusions']]\n",
    "    \n",
    "                                                                                  \n",
    "                                                                                  \n",
    "    if temp_df['BenefitName'] == 'Delivery and All Inpatient Services for Maternity Care':\n",
    "        if df['Exclusions'] == 'Pre-certification/pre-authorization of coverage required for non-emergency admissions':\n",
    "            temp_df['']\n",
    "                                                                                  \n",
    "                                                                                  \n",
    "   df.isin({'num_wings': [0, 3]})                                                                               \n",
    "                                                                                  \n",
    "                                                                                  \n",
    "        \n",
    "def label_race (row):\n",
    "   if row['eri_hispanic'] == 1 :\n",
    "      return 'Hispanic'\n",
    "   if row['eri_afr_amer'] + row['eri_asian'] + row['eri_hawaiian'] + row['eri_nat_amer'] + row['eri_white'] > 1 :\n",
    "      return 'Two Or More'\n",
    "   if row['eri_nat_amer'] == 1 :\n",
    "      return 'A/I AK Native'\n",
    "   if row['eri_asian'] == 1:\n",
    "      return 'Asian'\n",
    "   if row['eri_afr_amer']  == 1:\n",
    "      return 'Black/AA'\n",
    "   if row['eri_hawaiian'] == 1:\n",
    "      return 'Haw/Pac Isl.'\n",
    "   if row['eri_white'] == 1:\n",
    "      return 'White'\n",
    "   return 'Other'\n",
    "\n",
    "\n",
    "df['race_label'] = df.apply (lambda row: label_race(row), axis=1)"
   ]
  },
  {
   "cell_type": "code",
   "execution_count": null,
   "metadata": {},
   "outputs": [],
   "source": []
  },
  {
   "cell_type": "markdown",
   "metadata": {},
   "source": [
    "#  Naional Covered"
   ]
  },
  {
   "cell_type": "code",
   "execution_count": null,
   "metadata": {},
   "outputs": [],
   "source": [
    "covered = ben[ben['IsCovered']== 'Covered']\n",
    "#covered.info()"
   ]
  },
  {
   "cell_type": "code",
   "execution_count": null,
   "metadata": {},
   "outputs": [],
   "source": [
    "not_office=['Urgent Care Centers or Facilities','Urgent Care Centers or Facilities',\n",
    "            'Telehealth','Other Practitioner Office Visit (Nurse, Physician Assistant)',\n",
    "            'Outpatient Facility Fee (e.g., Ambulatory Surgery Center)',\n",
    "            'Outpatient Surgery Physician/Surgical Services']\n",
    "allergies=['Allergy Injections','Allergy Testing']\n",
    "cancer =['Bone Marrow Transplant','Chemotherapy','Radiation']\n",
    "cardiac=['Cardiac and Pulmonary Rehabilitation',]\n",
    "alt_med =['Chiropractic Care','Hyperbaric Oxygen Therapy']\n",
    "diabetes = ['Diabetes Education']\n",
    "dialysis = ['Dialysis']\n",
    "\n",
    "er = ['Emergency Room Services']\n",
    "ambulance = ['Emergency Transportation/Ambulance']\n",
    "alt_feed =['Enteral/Parenteral and Oral Nutrition Therapy']\n",
    "eyes = ['Eye Glasses for Adults','Eye Glasses for Children','Routine Eye Exam (Adult',\n",
    "        'Routine Eye Exam for Children' ]                                       \n",
    "gym = ['Fitness Center Membership','Gym Access']\n",
    "genetic = ['Genetic Testing Lab Services']\n",
    "habil = ['Habilitation Services','Home Health Care Services','Hospice Services','Skilled Nursing Facility']\n",
    "imaging = ['Imaging (CT/PET Scans, MRIs)','X-rays and Diagnostic Imaging']\n",
    "infusion = ['Infusion Therapy']        \n",
    "lab = ['Laboratory Outpatient and Professional Services']                                                                                                                                                                                                                                                                                                                                       \n",
    "mental_out = ['Mental Health Office Visit']\n",
    "nutrition = ['Nutritional Counseling','Nutrition/Formulas']\n",
    "osteo =['Osteoporosis','Osteoporosis Treatment']\n",
    "rehab = ['Outpatient Observation','Outpatient Rehabilitation Services',\n",
    "         'Rehabilitative Occupational and Rehabilitative Physical Therapy']\n",
    "ped_nutrition = ['Prenatal and Postnatal Care','Well Baby Visits and Care']\n",
    "preventative=['Preventive Care/Screening/Immunization','Primary Care Visit to Treat an Injury or Illness','Specialist Visit']     \n",
    "speech =['Rehabilitative Speech Therapy']\n",
    "surgery = ['Reconstructive Surgery']                                                                                                           \n",
    "feet =['Routine Foot Care']\n",
    "substance = ['Substance Abuse Office Visit']                                                                                                                                                                                                                                                                                                                                                                                                                                                                                                                                                                                                                                                                                                                                                                                                                               \n",
    "durable = ['Prosthetic Devices']\n",
    "transplant = ['Transplant']\n",
    "\n",
    "# mental health/drug rehab has 2 other pre_cert is required\n",
    "exclusions = {'Delivery and All Inpatient Services for Maternity Care': ['Pre-certification/pre-authorization of coverage required for non-emergency admissions','Pre-certification/pre-authorization of coverage required for non-emergency admissions.',\n",
    "                                                                         ' Cost sharing is a per day limit.'],\n",
    "              'Diabetes Care Management':['Available at FHCP Pharmacy Only. Mail Order not available',\n",
    "                                          'In order for services to be covered, diabetes outpatient self-management training and educational services must be provided under the direct supervision of an FHCP certified Diabetes Educator or board-certified Physician spcializing in endocrinology. Additionally, nutrition counseling must be provided by a licensed FHCP contracted dietitian.'],\n",
    "              'Durable Medical Equipment':'Items that are primarily for convenience or comfort and items available over-the-counter are excluded. The replacement of equipment is also excluded, unless it is non-functional and not practically repairable.',\n",
    "              'Mental/Behavioral Health Inpatient Services': 'Any inpatient Services provided in a residential treatment Facility are excluded from Coverage',\n",
    "              'Mental/Behavioral Health Outpatient Services':'Any outpatient Services provided in a residential treatment Facility are excluded from Coverage',\n",
    "              'Substance Abuse Disorder Inpatient Services':'Any inpatient Services provided in a residential treatment Facility are excluded from Coverage.',\n",
    "              'Substance Abuse Disorder Outpatient Services':'Any outpatient Services provided in a residential treatment Facility are excluded from Coverage.'\n",
    "             }\n",
    "              \n",
    "              \n",
    "              \n",
    "             \n",
    "             \n",
    "          \n"
   ]
  },
  {
   "cell_type": "code",
   "execution_count": null,
   "metadata": {},
   "outputs": [],
   "source": [
    "\n",
    "cross_table =covered[covered.BenefitName == 'Treatment for Temporomandibular Joint Disorders' ]\n",
    "cross_table.groupby('Exclusions').count()"
   ]
  },
  {
   "cell_type": "code",
   "execution_count": null,
   "metadata": {},
   "outputs": [],
   "source": [
    "\n"
   ]
  },
  {
   "cell_type": "code",
   "execution_count": null,
   "metadata": {},
   "outputs": [],
   "source": []
  },
  {
   "cell_type": "code",
   "execution_count": null,
   "metadata": {},
   "outputs": [],
   "source": []
  },
  {
   "cell_type": "markdown",
   "metadata": {},
   "source": [
    "# National Not COvered"
   ]
  },
  {
   "cell_type": "code",
   "execution_count": null,
   "metadata": {},
   "outputs": [],
   "source": [
    "not_covered = ben[ben['IsCovered']== 'Not Covered']\n",
    "not_covered.info()                                                                    "
   ]
  },
  {
   "cell_type": "code",
   "execution_count": null,
   "metadata": {},
   "outputs": [],
   "source": [
    "not_covered.BenefitName.unique()      "
   ]
  },
  {
   "cell_type": "code",
   "execution_count": null,
   "metadata": {},
   "outputs": [],
   "source": [
    "not_covered.head()"
   ]
  },
  {
   "cell_type": "code",
   "execution_count": null,
   "metadata": {},
   "outputs": [],
   "source": [
    "exclusions = pd.get_dummies(not_covered,columns=['BenefitName'])"
   ]
  },
  {
   "cell_type": "code",
   "execution_count": null,
   "metadata": {},
   "outputs": [],
   "source": [
    "exclusions"
   ]
  },
  {
   "cell_type": "code",
   "execution_count": null,
   "metadata": {},
   "outputs": [],
   "source": []
  },
  {
   "cell_type": "code",
   "execution_count": null,
   "metadata": {},
   "outputs": [],
   "source": [
    "dict-like `to_replace`\n",
    "df.replace({0: 10, 1: 100})\n",
    "df.replace({'A': {0: 100, 4: 400}})\n",
    "# filtering data on basis of both filters \n",
    "data.where(filter1 & filter2, inplace = True) \n",
    "\n",
    "\n",
    "values = {'A': 0, 'B': 1, 'C': 2, 'D': 3}\n",
    ">>> df.fillna(value=values)"
   ]
  },
  {
   "cell_type": "code",
   "execution_count": null,
   "metadata": {},
   "outputs": [],
   "source": []
  },
  {
   "cell_type": "code",
   "execution_count": null,
   "metadata": {},
   "outputs": [],
   "source": []
  },
  {
   "cell_type": "code",
   "execution_count": null,
   "metadata": {},
   "outputs": [],
   "source": []
  }
 ],
 "metadata": {
  "kernelspec": {
   "display_name": "Python 3",
   "language": "python",
   "name": "python3"
  },
  "language_info": {
   "codemirror_mode": {
    "name": "ipython",
    "version": 3
   },
   "file_extension": ".py",
   "mimetype": "text/x-python",
   "name": "python",
   "nbconvert_exporter": "python",
   "pygments_lexer": "ipython3",
   "version": "3.7.3"
  }
 },
 "nbformat": 4,
 "nbformat_minor": 2
}
