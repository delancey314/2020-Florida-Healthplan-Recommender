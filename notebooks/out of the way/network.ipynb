{
 "cells": [
  {
   "cell_type": "code",
   "execution_count": 1,
   "metadata": {},
   "outputs": [],
   "source": [
    "import numpy as np\n",
    "import pandas as pd \n",
    "pd.set_option('display.max_rows', 500)\n",
    "pd.set_option('display.max_columns', 500)"
   ]
  },
  {
   "cell_type": "code",
   "execution_count": 2,
   "metadata": {},
   "outputs": [
    {
     "data": {
      "text/html": [
       "<div>\n",
       "<style scoped>\n",
       "    .dataframe tbody tr th:only-of-type {\n",
       "        vertical-align: middle;\n",
       "    }\n",
       "\n",
       "    .dataframe tbody tr th {\n",
       "        vertical-align: top;\n",
       "    }\n",
       "\n",
       "    .dataframe thead th {\n",
       "        text-align: right;\n",
       "    }\n",
       "</style>\n",
       "<table border=\"1\" class=\"dataframe\">\n",
       "  <thead>\n",
       "    <tr style=\"text-align: right;\">\n",
       "      <th></th>\n",
       "      <th>BusinessYear</th>\n",
       "      <th>StateCode</th>\n",
       "      <th>IssuerId</th>\n",
       "      <th>SourceName</th>\n",
       "      <th>ImportDate</th>\n",
       "      <th>NetworkName</th>\n",
       "      <th>NetworkId</th>\n",
       "      <th>NetworkURL</th>\n",
       "      <th>MarketCoverage</th>\n",
       "      <th>DentalOnlyPlan</th>\n",
       "    </tr>\n",
       "  </thead>\n",
       "  <tbody>\n",
       "    <tr>\n",
       "      <th>0</th>\n",
       "      <td>2020</td>\n",
       "      <td>AK</td>\n",
       "      <td>21989</td>\n",
       "      <td>HIOS</td>\n",
       "      <td>2019-08-09 03:20:19</td>\n",
       "      <td>Delta Dental Premier</td>\n",
       "      <td>AKN001</td>\n",
       "      <td>https://www.modahealth.com/ProviderSearch?prod...</td>\n",
       "      <td>Individual</td>\n",
       "      <td>Yes</td>\n",
       "    </tr>\n",
       "    <tr>\n",
       "      <th>1</th>\n",
       "      <td>2020</td>\n",
       "      <td>AK</td>\n",
       "      <td>21989</td>\n",
       "      <td>HIOS</td>\n",
       "      <td>2019-08-09 03:20:19</td>\n",
       "      <td>Delta Dental Premier</td>\n",
       "      <td>AKN001</td>\n",
       "      <td>https://www.modahealth.com/ProviderSearch?prod...</td>\n",
       "      <td>SHOP (Small Group)</td>\n",
       "      <td>Yes</td>\n",
       "    </tr>\n",
       "    <tr>\n",
       "      <th>2</th>\n",
       "      <td>2020</td>\n",
       "      <td>AK</td>\n",
       "      <td>21989</td>\n",
       "      <td>HIOS</td>\n",
       "      <td>2019-08-09 03:20:19</td>\n",
       "      <td>Delta Dental PPO</td>\n",
       "      <td>AKN002</td>\n",
       "      <td>https://www.modahealth.com/ProviderSearch?prod...</td>\n",
       "      <td>Individual</td>\n",
       "      <td>Yes</td>\n",
       "    </tr>\n",
       "    <tr>\n",
       "      <th>3</th>\n",
       "      <td>2020</td>\n",
       "      <td>AK</td>\n",
       "      <td>21989</td>\n",
       "      <td>HIOS</td>\n",
       "      <td>2019-08-09 03:20:19</td>\n",
       "      <td>Delta Dental PPO</td>\n",
       "      <td>AKN002</td>\n",
       "      <td>https://www.modahealth.com/ProviderSearch?prod...</td>\n",
       "      <td>SHOP (Small Group)</td>\n",
       "      <td>Yes</td>\n",
       "    </tr>\n",
       "    <tr>\n",
       "      <th>4</th>\n",
       "      <td>2020</td>\n",
       "      <td>AK</td>\n",
       "      <td>38344</td>\n",
       "      <td>HIOS</td>\n",
       "      <td>2019-08-22 03:20:26</td>\n",
       "      <td>Legacy and Dental Select</td>\n",
       "      <td>AKN001</td>\n",
       "      <td>https://premera.sapphirecareselect.com/?ci=pre...</td>\n",
       "      <td>Individual</td>\n",
       "      <td>No</td>\n",
       "    </tr>\n",
       "  </tbody>\n",
       "</table>\n",
       "</div>"
      ],
      "text/plain": [
       "   BusinessYear StateCode  IssuerId SourceName           ImportDate  \\\n",
       "0          2020        AK     21989       HIOS  2019-08-09 03:20:19   \n",
       "1          2020        AK     21989       HIOS  2019-08-09 03:20:19   \n",
       "2          2020        AK     21989       HIOS  2019-08-09 03:20:19   \n",
       "3          2020        AK     21989       HIOS  2019-08-09 03:20:19   \n",
       "4          2020        AK     38344       HIOS  2019-08-22 03:20:26   \n",
       "\n",
       "                NetworkName NetworkId  \\\n",
       "0      Delta Dental Premier    AKN001   \n",
       "1      Delta Dental Premier    AKN001   \n",
       "2          Delta Dental PPO    AKN002   \n",
       "3          Delta Dental PPO    AKN002   \n",
       "4  Legacy and Dental Select    AKN001   \n",
       "\n",
       "                                          NetworkURL      MarketCoverage  \\\n",
       "0  https://www.modahealth.com/ProviderSearch?prod...          Individual   \n",
       "1  https://www.modahealth.com/ProviderSearch?prod...  SHOP (Small Group)   \n",
       "2  https://www.modahealth.com/ProviderSearch?prod...          Individual   \n",
       "3  https://www.modahealth.com/ProviderSearch?prod...  SHOP (Small Group)   \n",
       "4  https://premera.sapphirecareselect.com/?ci=pre...          Individual   \n",
       "\n",
       "  DentalOnlyPlan  \n",
       "0            Yes  \n",
       "1            Yes  \n",
       "2            Yes  \n",
       "3            Yes  \n",
       "4             No  "
      ]
     },
     "execution_count": 2,
     "metadata": {},
     "output_type": "execute_result"
    }
   ],
   "source": [
    "network=pd.read_csv('../data/raw_files/Network_PUF.csv',low_memory=False, encoding ='latin1')\n",
    "#businessyear and issuerID only numerical vals\n",
    "network.head()"
   ]
  },
  {
   "cell_type": "code",
   "execution_count": 3,
   "metadata": {},
   "outputs": [
    {
     "name": "stdout",
     "output_type": "stream",
     "text": [
      "<class 'pandas.core.frame.DataFrame'>\n",
      "RangeIndex: 648 entries, 0 to 647\n",
      "Data columns (total 10 columns):\n",
      "BusinessYear      648 non-null int64\n",
      "StateCode         648 non-null object\n",
      "IssuerId          648 non-null int64\n",
      "SourceName        648 non-null object\n",
      "ImportDate        648 non-null object\n",
      "NetworkName       648 non-null object\n",
      "NetworkId         648 non-null object\n",
      "NetworkURL        648 non-null object\n",
      "MarketCoverage    648 non-null object\n",
      "DentalOnlyPlan    648 non-null object\n",
      "dtypes: int64(2), object(8)\n",
      "memory usage: 50.7+ KB\n"
     ]
    }
   ],
   "source": [
    "network.info()"
   ]
  },
  {
   "cell_type": "code",
   "execution_count": null,
   "metadata": {},
   "outputs": [],
   "source": [
    "\n"
   ]
  },
  {
   "cell_type": "code",
   "execution_count": 4,
   "metadata": {},
   "outputs": [
    {
     "name": "stdout",
     "output_type": "stream",
     "text": [
      "<class 'pandas.core.frame.DataFrame'>\n",
      "Int64Index: 291 entries, 4 to 647\n",
      "Data columns (total 5 columns):\n",
      "StateCode         291 non-null object\n",
      "IssuerId          291 non-null int64\n",
      "NetworkName       291 non-null object\n",
      "NetworkId         291 non-null object\n",
      "MarketCoverage    291 non-null object\n",
      "dtypes: int64(1), object(4)\n",
      "memory usage: 13.6+ KB\n"
     ]
    }
   ],
   "source": [
    "#network['DentalOnlyPlan'].unique()\n",
    "\n",
    "\n",
    "#this gets rid of the Dental Only Plans leaving medical insurance plans then drops the column as superfilous\n",
    "network=network[network.DentalOnlyPlan != 'Yes']\n",
    "network=network.drop('DentalOnlyPlan', axis=1)\n",
    "\n",
    "network=network.drop(['BusinessYear','SourceName', 'ImportDate','NetworkURL'], axis = 1)\n",
    "network.info()\n"
   ]
  },
  {
   "cell_type": "code",
   "execution_count": 5,
   "metadata": {},
   "outputs": [],
   "source": [
    "network_FL=network[network.StateCode == 'FL'].copy()\n",
    "network_FL.drop(['StateCode','MarketCoverage'],axis=1, inplace=True)\n",
    "network_FL.columns\n",
    "network_FL=network_FL[['IssuerId','NetworkId','NetworkName']]\n"
   ]
  },
  {
   "cell_type": "code",
   "execution_count": 6,
   "metadata": {},
   "outputs": [
    {
     "data": {
      "text/plain": [
       "{'IssuerId': array([12379, 16842, 21663, 30252, 36194, 40572, 48121, 54172, 56503]),\n",
       " 'NetworkId': array(['FLN001', 'FLN002', 'FLN003', 'FLN004'], dtype=object),\n",
       " 'NetworkName': array(['Bright Health Network Orlando',\n",
       "        'Bright Health Network Jacksonville/Pensacola',\n",
       "        'Bright Health Network Tampa', 'Bright Health Network Palm Beach',\n",
       "        'NetworkBlue', 'BlueSelect',\n",
       "        'Ambetter from Sunshine Health Network', 'BlueCare', 'myBlue',\n",
       "        'Health First Individual', 'AdventHealth Individual',\n",
       "        'Florida EPO', 'Florida Connect Network', 'Molina Marketplace',\n",
       "        'FHCP HMO Network'], dtype=object)}"
      ]
     },
     "execution_count": 6,
     "metadata": {},
     "output_type": "execute_result"
    }
   ],
   "source": [
    "fl_uniques={} \n",
    "for col in network_FL.columns: \n",
    "    fl_uniques[col]=network_FL[col].unique()\n",
    "fl_uniques"
   ]
  },
  {
   "cell_type": "code",
   "execution_count": 7,
   "metadata": {},
   "outputs": [
    {
     "name": "stdout",
     "output_type": "stream",
     "text": [
      "IssuerId 9\n",
      "NetworkId 4\n",
      "NetworkName 15\n"
     ]
    }
   ],
   "source": [
    "for key,value in fl_uniques.items():\n",
    "    print(key, len(value))"
   ]
  },
  {
   "cell_type": "code",
   "execution_count": 10,
   "metadata": {},
   "outputs": [
    {
     "data": {
      "text/html": [
       "<div>\n",
       "<style scoped>\n",
       "    .dataframe tbody tr th:only-of-type {\n",
       "        vertical-align: middle;\n",
       "    }\n",
       "\n",
       "    .dataframe tbody tr th {\n",
       "        vertical-align: top;\n",
       "    }\n",
       "\n",
       "    .dataframe thead th {\n",
       "        text-align: right;\n",
       "    }\n",
       "</style>\n",
       "<table border=\"1\" class=\"dataframe\">\n",
       "  <thead>\n",
       "    <tr style=\"text-align: right;\">\n",
       "      <th></th>\n",
       "      <th>IssuerId</th>\n",
       "      <th>NetworkId</th>\n",
       "      <th>NetworkName</th>\n",
       "    </tr>\n",
       "  </thead>\n",
       "  <tbody>\n",
       "    <tr>\n",
       "      <th>42</th>\n",
       "      <td>12379</td>\n",
       "      <td>FLN001</td>\n",
       "      <td>Bright Health Network Orlando</td>\n",
       "    </tr>\n",
       "    <tr>\n",
       "      <th>43</th>\n",
       "      <td>12379</td>\n",
       "      <td>FLN002</td>\n",
       "      <td>Bright Health Network Jacksonville/Pensacola</td>\n",
       "    </tr>\n",
       "    <tr>\n",
       "      <th>44</th>\n",
       "      <td>12379</td>\n",
       "      <td>FLN003</td>\n",
       "      <td>Bright Health Network Tampa</td>\n",
       "    </tr>\n",
       "    <tr>\n",
       "      <th>45</th>\n",
       "      <td>12379</td>\n",
       "      <td>FLN004</td>\n",
       "      <td>Bright Health Network Palm Beach</td>\n",
       "    </tr>\n",
       "    <tr>\n",
       "      <th>49</th>\n",
       "      <td>16842</td>\n",
       "      <td>FLN001</td>\n",
       "      <td>NetworkBlue</td>\n",
       "    </tr>\n",
       "    <tr>\n",
       "      <th>50</th>\n",
       "      <td>16842</td>\n",
       "      <td>FLN002</td>\n",
       "      <td>BlueSelect</td>\n",
       "    </tr>\n",
       "    <tr>\n",
       "      <th>52</th>\n",
       "      <td>21663</td>\n",
       "      <td>FLN001</td>\n",
       "      <td>Ambetter from Sunshine Health Network</td>\n",
       "    </tr>\n",
       "    <tr>\n",
       "      <th>56</th>\n",
       "      <td>30252</td>\n",
       "      <td>FLN001</td>\n",
       "      <td>BlueCare</td>\n",
       "    </tr>\n",
       "    <tr>\n",
       "      <th>57</th>\n",
       "      <td>30252</td>\n",
       "      <td>FLN002</td>\n",
       "      <td>myBlue</td>\n",
       "    </tr>\n",
       "    <tr>\n",
       "      <th>58</th>\n",
       "      <td>36194</td>\n",
       "      <td>FLN001</td>\n",
       "      <td>Health First Individual</td>\n",
       "    </tr>\n",
       "    <tr>\n",
       "      <th>59</th>\n",
       "      <td>36194</td>\n",
       "      <td>FLN002</td>\n",
       "      <td>AdventHealth Individual</td>\n",
       "    </tr>\n",
       "    <tr>\n",
       "      <th>60</th>\n",
       "      <td>40572</td>\n",
       "      <td>FLN001</td>\n",
       "      <td>Florida EPO</td>\n",
       "    </tr>\n",
       "    <tr>\n",
       "      <th>63</th>\n",
       "      <td>48121</td>\n",
       "      <td>FLN001</td>\n",
       "      <td>Florida Connect Network</td>\n",
       "    </tr>\n",
       "    <tr>\n",
       "      <th>66</th>\n",
       "      <td>54172</td>\n",
       "      <td>FLN001</td>\n",
       "      <td>Molina Marketplace</td>\n",
       "    </tr>\n",
       "    <tr>\n",
       "      <th>67</th>\n",
       "      <td>56503</td>\n",
       "      <td>FLN001</td>\n",
       "      <td>FHCP HMO Network</td>\n",
       "    </tr>\n",
       "  </tbody>\n",
       "</table>\n",
       "</div>"
      ],
      "text/plain": [
       "    IssuerId NetworkId                                   NetworkName\n",
       "42     12379    FLN001                 Bright Health Network Orlando\n",
       "43     12379    FLN002  Bright Health Network Jacksonville/Pensacola\n",
       "44     12379    FLN003                   Bright Health Network Tampa\n",
       "45     12379    FLN004              Bright Health Network Palm Beach\n",
       "49     16842    FLN001                                   NetworkBlue\n",
       "50     16842    FLN002                                    BlueSelect\n",
       "52     21663    FLN001         Ambetter from Sunshine Health Network\n",
       "56     30252    FLN001                                      BlueCare\n",
       "57     30252    FLN002                                        myBlue\n",
       "58     36194    FLN001                       Health First Individual\n",
       "59     36194    FLN002                       AdventHealth Individual\n",
       "60     40572    FLN001                                   Florida EPO\n",
       "63     48121    FLN001                       Florida Connect Network\n",
       "66     54172    FLN001                            Molina Marketplace\n",
       "67     56503    FLN001                              FHCP HMO Network"
      ]
     },
     "execution_count": 10,
     "metadata": {},
     "output_type": "execute_result"
    }
   ],
   "source": [
    "network_FL\n"
   ]
  },
  {
   "cell_type": "code",
   "execution_count": 9,
   "metadata": {},
   "outputs": [],
   "source": [
    "#network_FL.reset_index()\n",
    "network_FL.to_csv('../data/clean_files/network_FL.csv')"
   ]
  },
  {
   "cell_type": "code",
   "execution_count": null,
   "metadata": {},
   "outputs": [],
   "source": []
  },
  {
   "cell_type": "raw",
   "metadata": {},
   "source": []
  },
  {
   "cell_type": "code",
   "execution_count": 18,
   "metadata": {},
   "outputs": [],
   "source": [
    "zip=33101\n",
    "area_import = pd.read_csv('../data/clean_files/area_FL.csv')\n",
    "area=area_import.copy()\n",
    "area.drop(['Unnamed: 0','County','County_Name','ServiceAreaId'], axis=1, inplace=True)\n",
    "area.dropna(how='any', inplace=True)\n",
    "area['IssuerId']=area['IssuerId'].astype(int)\n",
    "area=area[area['zipcode'] ==zip]\n",
    "area=area.drop_duplicates(['IssuerId'])\n",
    "matrix=pd.read_pickle('../models/florida_jaccard.pkl')\n",
    "area_plans=area.merge(matrix, how='left', on='IssuerId')\n",
    "area_plans.drop('zipcode', axis=1, inplace=True)\n"
   ]
  },
  {
   "cell_type": "code",
   "execution_count": 21,
   "metadata": {},
   "outputs": [
    {
     "data": {
      "text/html": [
       "<div>\n",
       "<style scoped>\n",
       "    .dataframe tbody tr th:only-of-type {\n",
       "        vertical-align: middle;\n",
       "    }\n",
       "\n",
       "    .dataframe tbody tr th {\n",
       "        vertical-align: top;\n",
       "    }\n",
       "\n",
       "    .dataframe thead th {\n",
       "        text-align: right;\n",
       "    }\n",
       "</style>\n",
       "<table border=\"1\" class=\"dataframe\">\n",
       "  <thead>\n",
       "    <tr style=\"text-align: right;\">\n",
       "      <th></th>\n",
       "      <th>zipcode</th>\n",
       "      <th>IssuerId</th>\n",
       "    </tr>\n",
       "  </thead>\n",
       "  <tbody>\n",
       "    <tr>\n",
       "      <th>4182</th>\n",
       "      <td>33101</td>\n",
       "      <td>16842</td>\n",
       "    </tr>\n",
       "    <tr>\n",
       "      <th>4183</th>\n",
       "      <td>33101</td>\n",
       "      <td>21663</td>\n",
       "    </tr>\n",
       "    <tr>\n",
       "      <th>4184</th>\n",
       "      <td>33101</td>\n",
       "      <td>30252</td>\n",
       "    </tr>\n",
       "    <tr>\n",
       "      <th>4185</th>\n",
       "      <td>33101</td>\n",
       "      <td>40572</td>\n",
       "    </tr>\n",
       "    <tr>\n",
       "      <th>4186</th>\n",
       "      <td>33101</td>\n",
       "      <td>54172</td>\n",
       "    </tr>\n",
       "  </tbody>\n",
       "</table>\n",
       "</div>"
      ],
      "text/plain": [
       "      zipcode  IssuerId\n",
       "4182    33101     16842\n",
       "4183    33101     21663\n",
       "4184    33101     30252\n",
       "4185    33101     40572\n",
       "4186    33101     54172"
      ]
     },
     "execution_count": 21,
     "metadata": {},
     "output_type": "execute_result"
    }
   ],
   "source": [
    "area"
   ]
  },
  {
   "cell_type": "code",
   "execution_count": null,
   "metadata": {},
   "outputs": [],
   "source": []
  }
 ],
 "metadata": {
  "kernelspec": {
   "display_name": "Python 3",
   "language": "python",
   "name": "python3"
  },
  "language_info": {
   "codemirror_mode": {
    "name": "ipython",
    "version": 3
   },
   "file_extension": ".py",
   "mimetype": "text/x-python",
   "name": "python",
   "nbconvert_exporter": "python",
   "pygments_lexer": "ipython3",
   "version": "3.7.3"
  }
 },
 "nbformat": 4,
 "nbformat_minor": 2
}
